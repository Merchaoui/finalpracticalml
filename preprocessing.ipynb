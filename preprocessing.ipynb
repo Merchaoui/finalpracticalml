{
 "cells": [
  {
   "cell_type": "code",
   "execution_count": 1,
   "metadata": {},
   "outputs": [],
   "source": []
  },
  {
   "cell_type": "code",
   "execution_count": 1,
   "metadata": {},
   "outputs": [],
   "source": [
    "using Pkg;\n",
    "\n",
    "# Installing packages\n",
    "#Pkg.add(\"DelimitedFiles\")\n",
    "#Pkg.add(\"CSV\")\n",
    "#Pkg.add(\"DataFrames\")\n",
    "#Pkg.add(\"Pandas\")\n",
    "#Pkg.add(\"CategoricalArrays\")\n",
    "#Pkg.add(\"DataFramesMeta\")\n",
    "#Pkg.add(\"ScikitLearn\")"
   ]
  },
  {
   "cell_type": "code",
   "execution_count": 2,
   "metadata": {},
   "outputs": [],
   "source": [
    "using DelimitedFiles\n",
    "using CSV\n",
    "using Statistics \n",
    "using DataFramesMeta #using DataFrames"
   ]
  },
  {
   "cell_type": "code",
   "execution_count": 3,
   "metadata": {},
   "outputs": [
    {
     "data": {
      "text/html": [
       "<div><div style = \"float: left;\"><span>17996×17 DataFrame</span></div><div style = \"float: right;\"><span style = \"font-style: italic;\">17971 rows omitted</span></div><div style = \"clear: both;\"></div></div><div class = \"data-frame\" style = \"overflow-x: scroll;\"><table class = \"data-frame\" style = \"margin-bottom: 6px;\"><thead><tr class = \"header\"><th class = \"rowNumber\" style = \"font-weight: bold; text-align: right;\">Row</th><th style = \"text-align: left;\">Artist Name</th><th style = \"text-align: left;\">Track Name</th><th style = \"text-align: left;\">Popularity</th><th style = \"text-align: left;\">danceability</th><th style = \"text-align: left;\">energy</th><th style = \"text-align: left;\">key</th><th style = \"text-align: left;\">loudness</th><th style = \"text-align: left;\">mode</th><th style = \"text-align: left;\">speechiness</th><th style = \"text-align: left;\">acousticness</th><th style = \"text-align: left;\">instrumentalness</th><th style = \"text-align: left;\">liveness</th><th style = \"text-align: left;\">valence</th><th style = \"text-align: left;\">tempo</th><th style = \"text-align: left;\">duration_in min/ms</th><th style = \"text-align: left;\">time_signature</th><th style = \"text-align: left;\">Class</th></tr><tr class = \"subheader headerLastRow\"><th class = \"rowNumber\" style = \"font-weight: bold; text-align: right;\"></th><th title = \"String\" style = \"text-align: left;\">String</th><th title = \"String\" style = \"text-align: left;\">String</th><th title = \"Union{Missing, Float64}\" style = \"text-align: left;\">Float64?</th><th title = \"Float64\" style = \"text-align: left;\">Float64</th><th title = \"Float64\" style = \"text-align: left;\">Float64</th><th title = \"Union{Missing, Float64}\" style = \"text-align: left;\">Float64?</th><th title = \"Float64\" style = \"text-align: left;\">Float64</th><th title = \"Int64\" style = \"text-align: left;\">Int64</th><th title = \"Float64\" style = \"text-align: left;\">Float64</th><th title = \"Float64\" style = \"text-align: left;\">Float64</th><th title = \"Union{Missing, Float64}\" style = \"text-align: left;\">Float64?</th><th title = \"Float64\" style = \"text-align: left;\">Float64</th><th title = \"Float64\" style = \"text-align: left;\">Float64</th><th title = \"Float64\" style = \"text-align: left;\">Float64</th><th title = \"Float64\" style = \"text-align: left;\">Float64</th><th title = \"Int64\" style = \"text-align: left;\">Int64</th><th title = \"Int64\" style = \"text-align: left;\">Int64</th></tr></thead><tbody><tr><td class = \"rowNumber\" style = \"font-weight: bold; text-align: right;\">1</td><td style = \"text-align: left;\">Bruno Mars</td><td style = \"text-align: left;\">That&apos;s What I Like (feat. Gucci Mane)</td><td style = \"text-align: right;\">60.0</td><td style = \"text-align: right;\">0.854</td><td style = \"text-align: right;\">0.564</td><td style = \"text-align: right;\">1.0</td><td style = \"text-align: right;\">-4.964</td><td style = \"text-align: right;\">1</td><td style = \"text-align: right;\">0.0485</td><td style = \"text-align: right;\">0.0171</td><td style = \"font-style: italic; text-align: right;\">missing</td><td style = \"text-align: right;\">0.0849</td><td style = \"text-align: right;\">0.899</td><td style = \"text-align: right;\">134.071</td><td style = \"text-align: right;\">234596.0</td><td style = \"text-align: right;\">4</td><td style = \"text-align: right;\">5</td></tr><tr><td class = \"rowNumber\" style = \"font-weight: bold; text-align: right;\">2</td><td style = \"text-align: left;\">Boston</td><td style = \"text-align: left;\">Hitch a Ride</td><td style = \"text-align: right;\">54.0</td><td style = \"text-align: right;\">0.382</td><td style = \"text-align: right;\">0.814</td><td style = \"text-align: right;\">3.0</td><td style = \"text-align: right;\">-7.23</td><td style = \"text-align: right;\">1</td><td style = \"text-align: right;\">0.0406</td><td style = \"text-align: right;\">0.0011</td><td style = \"text-align: right;\">0.00401</td><td style = \"text-align: right;\">0.101</td><td style = \"text-align: right;\">0.569</td><td style = \"text-align: right;\">116.454</td><td style = \"text-align: right;\">251733.0</td><td style = \"text-align: right;\">4</td><td style = \"text-align: right;\">10</td></tr><tr><td class = \"rowNumber\" style = \"font-weight: bold; text-align: right;\">3</td><td style = \"text-align: left;\">The Raincoats</td><td style = \"text-align: left;\">No Side to Fall In</td><td style = \"text-align: right;\">35.0</td><td style = \"text-align: right;\">0.434</td><td style = \"text-align: right;\">0.614</td><td style = \"text-align: right;\">6.0</td><td style = \"text-align: right;\">-8.334</td><td style = \"text-align: right;\">1</td><td style = \"text-align: right;\">0.0525</td><td style = \"text-align: right;\">0.486</td><td style = \"text-align: right;\">0.000196</td><td style = \"text-align: right;\">0.394</td><td style = \"text-align: right;\">0.787</td><td style = \"text-align: right;\">147.681</td><td style = \"text-align: right;\">109667.0</td><td style = \"text-align: right;\">4</td><td style = \"text-align: right;\">6</td></tr><tr><td class = \"rowNumber\" style = \"font-weight: bold; text-align: right;\">4</td><td style = \"text-align: left;\">Deno</td><td style = \"text-align: left;\">Lingo (feat. J.I &amp; Chunkz)</td><td style = \"text-align: right;\">66.0</td><td style = \"text-align: right;\">0.853</td><td style = \"text-align: right;\">0.597</td><td style = \"text-align: right;\">10.0</td><td style = \"text-align: right;\">-6.528</td><td style = \"text-align: right;\">0</td><td style = \"text-align: right;\">0.0555</td><td style = \"text-align: right;\">0.0212</td><td style = \"font-style: italic; text-align: right;\">missing</td><td style = \"text-align: right;\">0.122</td><td style = \"text-align: right;\">0.569</td><td style = \"text-align: right;\">107.033</td><td style = \"text-align: right;\">173968.0</td><td style = \"text-align: right;\">4</td><td style = \"text-align: right;\">5</td></tr><tr><td class = \"rowNumber\" style = \"font-weight: bold; text-align: right;\">5</td><td style = \"text-align: left;\">Red Hot Chili Peppers</td><td style = \"text-align: left;\">Nobody Weird Like Me - Remastered</td><td style = \"text-align: right;\">53.0</td><td style = \"text-align: right;\">0.167</td><td style = \"text-align: right;\">0.975</td><td style = \"text-align: right;\">2.0</td><td style = \"text-align: right;\">-4.279</td><td style = \"text-align: right;\">1</td><td style = \"text-align: right;\">0.216</td><td style = \"text-align: right;\">0.000169</td><td style = \"text-align: right;\">0.0161</td><td style = \"text-align: right;\">0.172</td><td style = \"text-align: right;\">0.0918</td><td style = \"text-align: right;\">199.06</td><td style = \"text-align: right;\">229960.0</td><td style = \"text-align: right;\">4</td><td style = \"text-align: right;\">10</td></tr><tr><td class = \"rowNumber\" style = \"font-weight: bold; text-align: right;\">6</td><td style = \"text-align: left;\">The Stooges</td><td style = \"text-align: left;\">Search and Destroy - Iggy Pop Mix</td><td style = \"text-align: right;\">53.0</td><td style = \"text-align: right;\">0.235</td><td style = \"text-align: right;\">0.977</td><td style = \"text-align: right;\">6.0</td><td style = \"text-align: right;\">0.878</td><td style = \"text-align: right;\">1</td><td style = \"text-align: right;\">0.107</td><td style = \"text-align: right;\">0.00353</td><td style = \"text-align: right;\">0.00604</td><td style = \"text-align: right;\">0.172</td><td style = \"text-align: right;\">0.241</td><td style = \"text-align: right;\">152.952</td><td style = \"text-align: right;\">208133.0</td><td style = \"text-align: right;\">4</td><td style = \"text-align: right;\">6</td></tr><tr><td class = \"rowNumber\" style = \"font-weight: bold; text-align: right;\">7</td><td style = \"text-align: left;\">Solomon Burke</td><td style = \"text-align: left;\">None Of Us Are Free</td><td style = \"text-align: right;\">48.0</td><td style = \"text-align: right;\">0.674</td><td style = \"text-align: right;\">0.658</td><td style = \"text-align: right;\">5.0</td><td style = \"text-align: right;\">-9.647</td><td style = \"text-align: right;\">0</td><td style = \"text-align: right;\">0.104</td><td style = \"text-align: right;\">0.404</td><td style = \"text-align: right;\">1.34e-6</td><td style = \"text-align: right;\">0.0981</td><td style = \"text-align: right;\">0.677</td><td style = \"text-align: right;\">143.292</td><td style = \"text-align: right;\">329387.0</td><td style = \"text-align: right;\">4</td><td style = \"text-align: right;\">2</td></tr><tr><td class = \"rowNumber\" style = \"font-weight: bold; text-align: right;\">8</td><td style = \"text-align: left;\">Randy Travis</td><td style = \"text-align: left;\">On the Other Hand</td><td style = \"text-align: right;\">55.0</td><td style = \"text-align: right;\">0.657</td><td style = \"text-align: right;\">0.415</td><td style = \"text-align: right;\">5.0</td><td style = \"text-align: right;\">-9.915</td><td style = \"text-align: right;\">1</td><td style = \"text-align: right;\">0.025</td><td style = \"text-align: right;\">0.175</td><td style = \"text-align: right;\">5.65e-6</td><td style = \"text-align: right;\">0.132</td><td style = \"text-align: right;\">0.347</td><td style = \"text-align: right;\">96.03</td><td style = \"text-align: right;\">3.10578</td><td style = \"text-align: right;\">4</td><td style = \"text-align: right;\">4</td></tr><tr><td class = \"rowNumber\" style = \"font-weight: bold; text-align: right;\">9</td><td style = \"text-align: left;\">Professional Murder Music</td><td style = \"text-align: left;\">Slow</td><td style = \"text-align: right;\">29.0</td><td style = \"text-align: right;\">0.431</td><td style = \"text-align: right;\">0.776</td><td style = \"text-align: right;\">10.0</td><td style = \"text-align: right;\">-5.403</td><td style = \"text-align: right;\">1</td><td style = \"text-align: right;\">0.0527</td><td style = \"text-align: right;\">2.21e-5</td><td style = \"text-align: right;\">0.0013</td><td style = \"text-align: right;\">0.179</td><td style = \"text-align: right;\">0.318</td><td style = \"text-align: right;\">120.857</td><td style = \"text-align: right;\">237867.0</td><td style = \"text-align: right;\">4</td><td style = \"text-align: right;\">8</td></tr><tr><td class = \"rowNumber\" style = \"font-weight: bold; text-align: right;\">10</td><td style = \"text-align: left;\">Dudu Aharon</td><td style = \"text-align: left;\">◊ì◊ï◊ì◊ï, ◊ô◊ê◊ú◊ú◊î ◊ô◊ê◊ú◊ú◊î</td><td style = \"text-align: right;\">14.0</td><td style = \"text-align: right;\">0.716</td><td style = \"text-align: right;\">0.885</td><td style = \"text-align: right;\">1.0</td><td style = \"text-align: right;\">-4.348</td><td style = \"text-align: right;\">0</td><td style = \"text-align: right;\">0.0333</td><td style = \"text-align: right;\">0.0614</td><td style = \"font-style: italic; text-align: right;\">missing</td><td style = \"text-align: right;\">0.253</td><td style = \"text-align: right;\">0.833</td><td style = \"text-align: right;\">128.043</td><td style = \"text-align: right;\">164093.0</td><td style = \"text-align: right;\">4</td><td style = \"text-align: right;\">9</td></tr><tr><td class = \"rowNumber\" style = \"font-weight: bold; text-align: right;\">11</td><td style = \"text-align: left;\">Mohammed Rafi</td><td style = \"text-align: left;\">Meri Dosti Mera Pyar</td><td style = \"text-align: right;\">11.0</td><td style = \"text-align: right;\">0.491</td><td style = \"text-align: right;\">0.563</td><td style = \"text-align: right;\">7.0</td><td style = \"text-align: right;\">-8.588</td><td style = \"text-align: right;\">0</td><td style = \"text-align: right;\">0.0331</td><td style = \"text-align: right;\">0.957</td><td style = \"text-align: right;\">0.0023</td><td style = \"text-align: right;\">0.263</td><td style = \"text-align: right;\">0.843</td><td style = \"text-align: right;\">95.558</td><td style = \"text-align: right;\">4.33045</td><td style = \"text-align: right;\">4</td><td style = \"text-align: right;\">3</td></tr><tr><td class = \"rowNumber\" style = \"font-weight: bold; text-align: right;\">12</td><td style = \"text-align: left;\">Arctic Monkeys</td><td style = \"text-align: left;\">The View From The Afternoon</td><td style = \"text-align: right;\">59.0</td><td style = \"text-align: right;\">0.387</td><td style = \"text-align: right;\">0.922</td><td style = \"text-align: right;\">9.0</td><td style = \"text-align: right;\">-5.192</td><td style = \"text-align: right;\">0</td><td style = \"text-align: right;\">0.0674</td><td style = \"text-align: right;\">0.00487</td><td style = \"font-style: italic; text-align: right;\">missing</td><td style = \"text-align: right;\">0.187</td><td style = \"text-align: right;\">0.417</td><td style = \"text-align: right;\">146.478</td><td style = \"text-align: right;\">222947.0</td><td style = \"text-align: right;\">4</td><td style = \"text-align: right;\">10</td></tr><tr><td class = \"rowNumber\" style = \"font-weight: bold; text-align: right;\">13</td><td style = \"text-align: left;\">Eyal Golan</td><td style = \"text-align: left;\">◊ß◊®◊ï◊ë◊î ◊ê◊ú◊ô◊ô</td><td style = \"text-align: right;\">34.0</td><td style = \"text-align: right;\">0.585</td><td style = \"text-align: right;\">0.381</td><td style = \"text-align: right;\">1.0</td><td style = \"text-align: right;\">-7.622</td><td style = \"text-align: right;\">0</td><td style = \"text-align: right;\">0.0463</td><td style = \"text-align: right;\">0.435</td><td style = \"font-style: italic; text-align: right;\">missing</td><td style = \"text-align: right;\">0.126</td><td style = \"text-align: right;\">0.322</td><td style = \"text-align: right;\">143.876</td><td style = \"text-align: right;\">206875.0</td><td style = \"text-align: right;\">4</td><td style = \"text-align: right;\">9</td></tr><tr><td style = \"text-align: right;\">&vellip;</td><td style = \"text-align: right;\">&vellip;</td><td style = \"text-align: right;\">&vellip;</td><td style = \"text-align: right;\">&vellip;</td><td style = \"text-align: right;\">&vellip;</td><td style = \"text-align: right;\">&vellip;</td><td style = \"text-align: right;\">&vellip;</td><td style = \"text-align: right;\">&vellip;</td><td style = \"text-align: right;\">&vellip;</td><td style = \"text-align: right;\">&vellip;</td><td style = \"text-align: right;\">&vellip;</td><td style = \"text-align: right;\">&vellip;</td><td style = \"text-align: right;\">&vellip;</td><td style = \"text-align: right;\">&vellip;</td><td style = \"text-align: right;\">&vellip;</td><td style = \"text-align: right;\">&vellip;</td><td style = \"text-align: right;\">&vellip;</td><td style = \"text-align: right;\">&vellip;</td></tr><tr><td class = \"rowNumber\" style = \"font-weight: bold; text-align: right;\">17985</td><td style = \"text-align: left;\">dexter</td><td style = \"text-align: left;\">Maybe the Problem Is Me</td><td style = \"text-align: right;\">44.0</td><td style = \"text-align: right;\">0.616</td><td style = \"text-align: right;\">0.219</td><td style = \"text-align: right;\">7.0</td><td style = \"text-align: right;\">-11.807</td><td style = \"text-align: right;\">1</td><td style = \"text-align: right;\">0.087</td><td style = \"text-align: right;\">0.987</td><td style = \"text-align: right;\">0.000839</td><td style = \"text-align: right;\">0.125</td><td style = \"text-align: right;\">0.47</td><td style = \"text-align: right;\">147.924</td><td style = \"text-align: right;\">133091.0</td><td style = \"text-align: right;\">4</td><td style = \"text-align: right;\">6</td></tr><tr><td class = \"rowNumber\" style = \"font-weight: bold; text-align: right;\">17986</td><td style = \"text-align: left;\">Hippie Hourrah</td><td style = \"text-align: left;\">La guerre</td><td style = \"text-align: right;\">2.0</td><td style = \"text-align: right;\">0.61</td><td style = \"text-align: right;\">0.766</td><td style = \"text-align: right;\">missing</td><td style = \"text-align: right;\">-8.266</td><td style = \"text-align: right;\">1</td><td style = \"text-align: right;\">0.0267</td><td style = \"text-align: right;\">0.000559</td><td style = \"text-align: right;\">0.174</td><td style = \"text-align: right;\">0.0887</td><td style = \"text-align: right;\">0.932</td><td style = \"text-align: right;\">118.013</td><td style = \"text-align: right;\">271467.0</td><td style = \"text-align: right;\">4</td><td style = \"text-align: right;\">6</td></tr><tr><td class = \"rowNumber\" style = \"font-weight: bold; text-align: right;\">17987</td><td style = \"text-align: left;\">John Mayer</td><td style = \"text-align: left;\">Free Fallin&apos; - Live at the Nokia Theatre, Los Angeles, CA - December 2007</td><td style = \"text-align: right;\">71.0</td><td style = \"text-align: right;\">0.315</td><td style = \"text-align: right;\">0.296</td><td style = \"text-align: right;\">5.0</td><td style = \"text-align: right;\">-13.262</td><td style = \"text-align: right;\">1</td><td style = \"text-align: right;\">0.0315</td><td style = \"text-align: right;\">0.771</td><td style = \"text-align: right;\">missing</td><td style = \"text-align: right;\">0.702</td><td style = \"text-align: right;\">0.435</td><td style = \"text-align: right;\">173.509</td><td style = \"text-align: right;\">4.39288</td><td style = \"text-align: right;\">4</td><td style = \"text-align: right;\">0</td></tr><tr><td class = \"rowNumber\" style = \"font-weight: bold; text-align: right;\">17988</td><td style = \"text-align: left;\">Jilted John</td><td style = \"text-align: left;\">Jilted John - Single Version</td><td style = \"text-align: right;\">42.0</td><td style = \"text-align: right;\">0.351</td><td style = \"text-align: right;\">0.883</td><td style = \"text-align: right;\">missing</td><td style = \"text-align: right;\">-6.952</td><td style = \"text-align: right;\">1</td><td style = \"text-align: right;\">0.0562</td><td style = \"text-align: right;\">0.0363</td><td style = \"text-align: right;\">missing</td><td style = \"text-align: right;\">0.499</td><td style = \"text-align: right;\">0.88</td><td style = \"text-align: right;\">195.666</td><td style = \"text-align: right;\">175400.0</td><td style = \"text-align: right;\">4</td><td style = \"text-align: right;\">1</td></tr><tr><td class = \"rowNumber\" style = \"font-weight: bold; text-align: right;\">17989</td><td style = \"text-align: left;\">Sara Evans</td><td style = \"text-align: left;\">Suds in the Bucket</td><td style = \"text-align: right;\">65.0</td><td style = \"text-align: right;\">0.511</td><td style = \"text-align: right;\">0.903</td><td style = \"text-align: right;\">10.0</td><td style = \"text-align: right;\">-3.163</td><td style = \"text-align: right;\">1</td><td style = \"text-align: right;\">0.0397</td><td style = \"text-align: right;\">0.052</td><td style = \"text-align: right;\">0.000529</td><td style = \"text-align: right;\">0.304</td><td style = \"text-align: right;\">0.898</td><td style = \"text-align: right;\">161.992</td><td style = \"text-align: right;\">3.78778</td><td style = \"text-align: right;\">4</td><td style = \"text-align: right;\">4</td></tr><tr><td class = \"rowNumber\" style = \"font-weight: bold; text-align: right;\">17990</td><td style = \"text-align: left;\">gnkosaiBAND</td><td style = \"text-align: left;\">ÂÜçËÄÉ</td><td style = \"text-align: right;\">20.0</td><td style = \"text-align: right;\">0.597</td><td style = \"text-align: right;\">0.633</td><td style = \"text-align: right;\">9.0</td><td style = \"text-align: right;\">-8.163</td><td style = \"text-align: right;\">0</td><td style = \"text-align: right;\">0.0971</td><td style = \"text-align: right;\">0.0101</td><td style = \"text-align: right;\">0.211</td><td style = \"text-align: right;\">0.631</td><td style = \"text-align: right;\">0.719</td><td style = \"text-align: right;\">139.969</td><td style = \"text-align: right;\">244053.0</td><td style = \"text-align: right;\">4</td><td style = \"text-align: right;\">9</td></tr><tr><td class = \"rowNumber\" style = \"font-weight: bold; text-align: right;\">17991</td><td style = \"text-align: left;\">Henrik Lindstrand</td><td style = \"text-align: left;\">Hallonlandet</td><td style = \"text-align: right;\">26.0</td><td style = \"text-align: right;\">0.468</td><td style = \"text-align: right;\">0.0835</td><td style = \"text-align: right;\">2.0</td><td style = \"text-align: right;\">-25.131</td><td style = \"text-align: right;\">1</td><td style = \"text-align: right;\">0.0411</td><td style = \"text-align: right;\">0.95</td><td style = \"font-style: italic; text-align: right;\">0.902</td><td style = \"text-align: right;\">0.108</td><td style = \"text-align: right;\">0.142</td><td style = \"text-align: right;\">102.34</td><td style = \"text-align: right;\">194059.0</td><td style = \"text-align: right;\">4</td><td style = \"text-align: right;\">1</td></tr><tr><td class = \"rowNumber\" style = \"font-weight: bold; text-align: right;\">17992</td><td style = \"text-align: left;\">Green-House</td><td style = \"text-align: left;\">Find Home</td><td style = \"text-align: right;\">35.0</td><td style = \"text-align: right;\">0.166</td><td style = \"text-align: right;\">0.109</td><td style = \"text-align: right;\">7.0</td><td style = \"text-align: right;\">-17.1</td><td style = \"text-align: right;\">0</td><td style = \"text-align: right;\">0.0413</td><td style = \"text-align: right;\">0.993</td><td style = \"text-align: right;\">0.824</td><td style = \"text-align: right;\">0.0984</td><td style = \"text-align: right;\">0.177</td><td style = \"text-align: right;\">171.587</td><td style = \"text-align: right;\">193450.0</td><td style = \"text-align: right;\">3</td><td style = \"text-align: right;\">6</td></tr><tr><td class = \"rowNumber\" style = \"font-weight: bold; text-align: right;\">17993</td><td style = \"text-align: left;\">Micatone</td><td style = \"text-align: left;\">All Gone</td><td style = \"text-align: right;\">27.0</td><td style = \"text-align: right;\">0.638</td><td style = \"text-align: right;\">0.223</td><td style = \"text-align: right;\">11.0</td><td style = \"text-align: right;\">-10.174</td><td style = \"text-align: right;\">0</td><td style = \"text-align: right;\">0.0329</td><td style = \"text-align: right;\">0.858</td><td style = \"text-align: right;\">1.61e-5</td><td style = \"text-align: right;\">0.0705</td><td style = \"text-align: right;\">0.335</td><td style = \"text-align: right;\">73.016</td><td style = \"text-align: right;\">257067.0</td><td style = \"text-align: right;\">4</td><td style = \"text-align: right;\">2</td></tr><tr><td class = \"rowNumber\" style = \"font-weight: bold; text-align: right;\">17994</td><td style = \"text-align: left;\">Smash Hit Combo</td><td style = \"text-align: left;\">Peine perdue</td><td style = \"text-align: right;\">34.0</td><td style = \"text-align: right;\">0.558</td><td style = \"text-align: right;\">0.981</td><td style = \"text-align: right;\">4.0</td><td style = \"text-align: right;\">-4.683</td><td style = \"text-align: right;\">0</td><td style = \"text-align: right;\">0.0712</td><td style = \"text-align: right;\">2.97e-5</td><td style = \"text-align: right;\">0.000136</td><td style = \"text-align: right;\">0.666</td><td style = \"text-align: right;\">0.262</td><td style = \"text-align: right;\">105.0</td><td style = \"text-align: right;\">216222.0</td><td style = \"text-align: right;\">4</td><td style = \"text-align: right;\">8</td></tr><tr><td class = \"rowNumber\" style = \"font-weight: bold; text-align: right;\">17995</td><td style = \"text-align: left;\">Beherit</td><td style = \"text-align: left;\">Salomon&apos;s Gate</td><td style = \"text-align: right;\">29.0</td><td style = \"text-align: right;\">0.215</td><td style = \"text-align: right;\">0.805</td><td style = \"text-align: right;\">6.0</td><td style = \"text-align: right;\">-12.757</td><td style = \"text-align: right;\">0</td><td style = \"text-align: right;\">0.134</td><td style = \"text-align: right;\">0.00129</td><td style = \"text-align: right;\">0.916</td><td style = \"text-align: right;\">0.256</td><td style = \"text-align: right;\">0.355</td><td style = \"text-align: right;\">131.363</td><td style = \"text-align: right;\">219693.0</td><td style = \"text-align: right;\">4</td><td style = \"text-align: right;\">8</td></tr><tr><td class = \"rowNumber\" style = \"font-weight: bold; text-align: right;\">17996</td><td style = \"text-align: left;\">The Raconteurs</td><td style = \"text-align: left;\">Broken Boy Soldier</td><td style = \"text-align: right;\">43.0</td><td style = \"text-align: right;\">0.4</td><td style = \"text-align: right;\">0.853</td><td style = \"text-align: right;\">4.0</td><td style = \"text-align: right;\">-5.32</td><td style = \"text-align: right;\">0</td><td style = \"text-align: right;\">0.0591</td><td style = \"text-align: right;\">0.00604</td><td style = \"font-style: italic; text-align: right;\">0.212</td><td style = \"text-align: right;\">0.334</td><td style = \"text-align: right;\">0.377</td><td style = \"text-align: right;\">138.102</td><td style = \"text-align: right;\">182227.0</td><td style = \"text-align: right;\">4</td><td style = \"text-align: right;\">10</td></tr></tbody></table></div>"
      ],
      "text/latex": [
       "\\begin{tabular}{r|ccc}\n",
       "\t& Artist Name & Track Name & \\\\\n",
       "\t\\hline\n",
       "\t& String & String & \\\\\n",
       "\t\\hline\n",
       "\t1 & Bruno Mars & That's What I Like (feat. Gucci Mane) & $\\dots$ \\\\\n",
       "\t2 & Boston & Hitch a Ride & $\\dots$ \\\\\n",
       "\t3 & The Raincoats & No Side to Fall In & $\\dots$ \\\\\n",
       "\t4 & Deno & Lingo (feat. J.I \\& Chunkz) & $\\dots$ \\\\\n",
       "\t5 & Red Hot Chili Peppers & Nobody Weird Like Me - Remastered & $\\dots$ \\\\\n",
       "\t6 & The Stooges & Search and Destroy - Iggy Pop Mix & $\\dots$ \\\\\n",
       "\t7 & Solomon Burke & None Of Us Are Free & $\\dots$ \\\\\n",
       "\t8 & Randy Travis & On the Other Hand & $\\dots$ \\\\\n",
       "\t9 & Professional Murder Music & Slow & $\\dots$ \\\\\n",
       "\t10 & Dudu Aharon & ◊ì◊ï◊ì◊ï, ◊ô◊ê◊ú◊ú◊î ◊ô◊ê◊ú◊ú◊î & $\\dots$ \\\\\n",
       "\t11 & Mohammed Rafi & Meri Dosti Mera Pyar & $\\dots$ \\\\\n",
       "\t12 & Arctic Monkeys & The View From The Afternoon & $\\dots$ \\\\\n",
       "\t13 & Eyal Golan & ◊ß◊®◊ï◊ë◊î ◊ê◊ú◊ô◊ô & $\\dots$ \\\\\n",
       "\t14 & Harald Lassen, Bram de Looze & How it feels pt. 2 & $\\dots$ \\\\\n",
       "\t15 & Buffalo Springfield & For What It's Worth & $\\dots$ \\\\\n",
       "\t16 & Elmore James & Madison Blues & $\\dots$ \\\\\n",
       "\t17 & Dudu Aharon & ◊ú◊ê ◊ô◊õ◊ï◊ú ◊ë◊ú◊¢◊ì◊ô◊ô◊ö & $\\dots$ \\\\\n",
       "\t18 & Velvet Two Stripes & Drinks & $\\dots$ \\\\\n",
       "\t19 & Eden Ben Zaken & ◊û◊†◊í◊ô◊†◊î & $\\dots$ \\\\\n",
       "\t20 & DaBaby & Baby Sitter (feat. Offset) & $\\dots$ \\\\\n",
       "\t21 & Mura Masa & Teenage Headache Dreams (with Ellie Rowsell) & $\\dots$ \\\\\n",
       "\t22 & Clairmont The Second & intres-ting & $\\dots$ \\\\\n",
       "\t23 & Krankhead & Cut Throat & $\\dots$ \\\\\n",
       "\t24 & The Stone Roses & Driving South & $\\dots$ \\\\\n",
       "\t25 & R3HAB & Whiplash - Acoustic & $\\dots$ \\\\\n",
       "\t26 & IndianRaga, Akshay Anantapadmanabhan, Madhu Iyer, Sri Poornima Krishna Emani & Swagatham Krishna - Mohanam - Adi & $\\dots$ \\\\\n",
       "\t27 & MC Hammer & U Can't Touch This & $\\dots$ \\\\\n",
       "\t28 & duendita & Open Eyes & $\\dots$ \\\\\n",
       "\t29 & Rainbow & Since You Been Gone & $\\dots$ \\\\\n",
       "\t30 & fijitrip & Private Social Network & $\\dots$ \\\\\n",
       "\t$\\dots$ & $\\dots$ & $\\dots$ &  \\\\\n",
       "\\end{tabular}\n"
      ],
      "text/plain": [
       "\u001b[1m17996×17 DataFrame\u001b[0m\n",
       "\u001b[1m   Row \u001b[0m│\u001b[1m Artist Name                  \u001b[0m\u001b[1m Track Name                        \u001b[0m\u001b[1m Popu\u001b[0m ⋯\n",
       "       │\u001b[90m String                       \u001b[0m\u001b[90m String                            \u001b[0m\u001b[90m Floa\u001b[0m ⋯\n",
       "───────┼────────────────────────────────────────────────────────────────────────\n",
       "     1 │ Bruno Mars                    That's What I Like (feat. Gucci …       ⋯\n",
       "     2 │ Boston                        Hitch a Ride\n",
       "     3 │ The Raincoats                 No Side to Fall In\n",
       "     4 │ Deno                          Lingo (feat. J.I & Chunkz)\n",
       "     5 │ Red Hot Chili Peppers         Nobody Weird Like Me - Remastered       ⋯\n",
       "     6 │ The Stooges                   Search and Destroy - Iggy Pop Mix\n",
       "     7 │ Solomon Burke                 None Of Us Are Free\n",
       "     8 │ Randy Travis                  On the Other Hand\n",
       "     9 │ Professional Murder Music     Slow                                    ⋯\n",
       "    10 │ Dudu Aharon                   ◊ì◊ï◊ì◊ï, ◊ô◊ê◊ú◊ú◊î ◊ô◊ê◊ú◊ú◊î\n",
       "    11 │ Mohammed Rafi                 Meri Dosti Mera Pyar\n",
       "   ⋮   │              ⋮                                ⋮                       ⋱\n",
       " 17987 │ John Mayer                    Free Fallin' - Live at the Nokia…\n",
       " 17988 │ Jilted John                   Jilted John - Single Version            ⋯\n",
       " 17989 │ Sara Evans                    Suds in the Bucket\n",
       " 17990 │ gnkosaiBAND                   ÂÜçËÄÉ\n",
       " 17991 │ Henrik Lindstrand             Hallonlandet\n",
       " 17992 │ Green-House                   Find Home                               ⋯\n",
       " 17993 │ Micatone                      All Gone\n",
       " 17994 │ Smash Hit Combo               Peine perdue\n",
       " 17995 │ Beherit                       Salomon's Gate\n",
       " 17996 │ The Raconteurs                Broken Boy Soldier                      ⋯\n",
       "\u001b[36m                                               15 columns and 17975 rows omitted\u001b[0m"
      ]
     },
     "execution_count": 3,
     "metadata": {},
     "output_type": "execute_result"
    }
   ],
   "source": [
    "data = CSV.File(\"./dataset/music_genre.csv\") |> DataFrame"
   ]
  },
  {
   "cell_type": "markdown",
   "metadata": {},
   "source": [
    "## Data Preprocessing\n",
    "\n",
    "1. Set Data Types"
   ]
  },
  {
   "cell_type": "code",
   "execution_count": 4,
   "metadata": {},
   "outputs": [],
   "source": [
    "using CategoricalArrays;\n",
    "df = copy(data);\n",
    "column_names = names(df);"
   ]
  },
  {
   "cell_type": "code",
   "execution_count": 5,
   "metadata": {},
   "outputs": [],
   "source": [
    "function toString(x)\n",
    "    if ismissing(x)==true\n",
    "        return missing\n",
    "    elseif ismissing(x)==false\n",
    "        return string(x)\n",
    "    end\n",
    "end\n",
    "\n",
    "df.\"key\" = map((x) -> toString(x), df.\"key\")\n",
    "df.\"mode\" = map((x) -> toString(x), df.\"mode\")\n",
    "df.\"time_signature\" = map((x) -> toString(x), df.\"time_signature\")\n",
    "df.\"Class\" = map((x) -> toString(x), df.\"Class\")\n",
    "\n",
    "categorical_columns = [\"Artist Name\",\"Track Name\",\"key\",\"mode\",\"Class\",\"time_signature\"]\n",
    "\n",
    "for category in categorical_columns\n",
    "    df[:,category] = categorical(df[:,category]);\n",
    "end"
   ]
  },
  {
   "cell_type": "markdown",
   "metadata": {},
   "source": [
    "### Quantity of missing values for each column"
   ]
  },
  {
   "cell_type": "code",
   "execution_count": 6,
   "metadata": {},
   "outputs": [
    {
     "data": {
      "text/html": [
       "<div><div style = \"float: left;\"><span>17×7 DataFrame</span></div><div style = \"clear: both;\"></div></div><div class = \"data-frame\" style = \"overflow-x: scroll;\"><table class = \"data-frame\" style = \"margin-bottom: 6px;\"><thead><tr class = \"header\"><th class = \"rowNumber\" style = \"font-weight: bold; text-align: right;\">Row</th><th style = \"text-align: left;\">variable</th><th style = \"text-align: left;\">mean</th><th style = \"text-align: left;\">min</th><th style = \"text-align: left;\">median</th><th style = \"text-align: left;\">max</th><th style = \"text-align: left;\">nmissing</th><th style = \"text-align: left;\">eltype</th></tr><tr class = \"subheader headerLastRow\"><th class = \"rowNumber\" style = \"font-weight: bold; text-align: right;\"></th><th title = \"Symbol\" style = \"text-align: left;\">Symbol</th><th title = \"Union{Nothing, Float64}\" style = \"text-align: left;\">Union…</th><th title = \"Any\" style = \"text-align: left;\">Any</th><th title = \"Union{Nothing, Float64}\" style = \"text-align: left;\">Union…</th><th title = \"Any\" style = \"text-align: left;\">Any</th><th title = \"Int64\" style = \"text-align: left;\">Int64</th><th title = \"Type\" style = \"text-align: left;\">Type</th></tr></thead><tbody><tr><td class = \"rowNumber\" style = \"font-weight: bold; text-align: right;\">1</td><td style = \"text-align: left;\">Artist Name</td><td style = \"font-style: italic; text-align: left;\"></td><td style = \"text-align: left;\">$NOT</td><td style = \"font-style: italic; text-align: left;\"></td><td style = \"text-align: left;\">◊†◊ê◊ì◊î</td><td style = \"text-align: right;\">0</td><td style = \"text-align: left;\">String</td></tr><tr><td class = \"rowNumber\" style = \"font-weight: bold; text-align: right;\">2</td><td style = \"text-align: left;\">Track Name</td><td style = \"font-style: italic; text-align: left;\"></td><td style = \"text-align: left;\">&quot;45&quot;</td><td style = \"font-style: italic; text-align: left;\"></td><td style = \"text-align: left;\">◊™◊™◊ó◊†◊†◊ô ◊ê◊ú◊ô◊ô</td><td style = \"text-align: right;\">0</td><td style = \"text-align: left;\">String</td></tr><tr><td class = \"rowNumber\" style = \"font-weight: bold; text-align: right;\">3</td><td style = \"text-align: left;\">Popularity</td><td style = \"text-align: left;\">44.5121</td><td style = \"text-align: left;\">1.0</td><td style = \"text-align: left;\">44.0</td><td style = \"text-align: left;\">100.0</td><td style = \"text-align: right;\">428</td><td style = \"text-align: left;\">Union{Missing, Float64}</td></tr><tr><td class = \"rowNumber\" style = \"font-weight: bold; text-align: right;\">4</td><td style = \"text-align: left;\">danceability</td><td style = \"text-align: left;\">0.543433</td><td style = \"text-align: left;\">0.0596</td><td style = \"text-align: left;\">0.545</td><td style = \"text-align: left;\">0.989</td><td style = \"text-align: right;\">0</td><td style = \"text-align: left;\">Float64</td></tr><tr><td class = \"rowNumber\" style = \"font-weight: bold; text-align: right;\">5</td><td style = \"text-align: left;\">energy</td><td style = \"text-align: left;\">0.662777</td><td style = \"text-align: left;\">2.03e-5</td><td style = \"text-align: left;\">0.7</td><td style = \"text-align: left;\">1.0</td><td style = \"text-align: right;\">0</td><td style = \"text-align: left;\">Float64</td></tr><tr><td class = \"rowNumber\" style = \"font-weight: bold; text-align: right;\">6</td><td style = \"text-align: left;\">key</td><td style = \"font-style: italic; text-align: left;\"></td><td style = \"text-align: left;\">1.0</td><td style = \"font-style: italic; text-align: left;\"></td><td style = \"text-align: left;\">9.0</td><td style = \"text-align: right;\">2014</td><td style = \"text-align: left;\">Union{Missing, String}</td></tr><tr><td class = \"rowNumber\" style = \"font-weight: bold; text-align: right;\">7</td><td style = \"text-align: left;\">loudness</td><td style = \"text-align: left;\">-7.91066</td><td style = \"text-align: left;\">-39.952</td><td style = \"text-align: left;\">-7.016</td><td style = \"text-align: left;\">1.355</td><td style = \"text-align: right;\">0</td><td style = \"text-align: left;\">Float64</td></tr><tr><td class = \"rowNumber\" style = \"font-weight: bold; text-align: right;\">8</td><td style = \"text-align: left;\">mode</td><td style = \"font-style: italic; text-align: left;\"></td><td style = \"text-align: left;\">0</td><td style = \"font-style: italic; text-align: left;\"></td><td style = \"text-align: left;\">1</td><td style = \"text-align: right;\">0</td><td style = \"text-align: left;\">String</td></tr><tr><td class = \"rowNumber\" style = \"font-weight: bold; text-align: right;\">9</td><td style = \"text-align: left;\">speechiness</td><td style = \"text-align: left;\">0.079707</td><td style = \"text-align: left;\">0.0225</td><td style = \"text-align: left;\">0.0474</td><td style = \"text-align: left;\">0.955</td><td style = \"text-align: right;\">0</td><td style = \"text-align: left;\">Float64</td></tr><tr><td class = \"rowNumber\" style = \"font-weight: bold; text-align: right;\">10</td><td style = \"text-align: left;\">acousticness</td><td style = \"text-align: left;\">0.247082</td><td style = \"text-align: left;\">0.0</td><td style = \"text-align: left;\">0.0814</td><td style = \"text-align: left;\">0.996</td><td style = \"text-align: right;\">0</td><td style = \"text-align: left;\">Float64</td></tr><tr><td class = \"rowNumber\" style = \"font-weight: bold; text-align: right;\">11</td><td style = \"text-align: left;\">instrumentalness</td><td style = \"text-align: left;\">0.177562</td><td style = \"text-align: left;\">1.0e-6</td><td style = \"text-align: left;\">0.00391</td><td style = \"text-align: left;\">0.996</td><td style = \"text-align: right;\">4377</td><td style = \"text-align: left;\">Union{Missing, Float64}</td></tr><tr><td class = \"rowNumber\" style = \"font-weight: bold; text-align: right;\">12</td><td style = \"text-align: left;\">liveness</td><td style = \"text-align: left;\">0.19617</td><td style = \"text-align: left;\">0.0119</td><td style = \"text-align: left;\">0.129</td><td style = \"text-align: left;\">1.0</td><td style = \"text-align: right;\">0</td><td style = \"text-align: left;\">Float64</td></tr><tr><td class = \"rowNumber\" style = \"font-weight: bold; text-align: right;\">13</td><td style = \"text-align: left;\">valence</td><td style = \"text-align: left;\">0.486208</td><td style = \"text-align: left;\">0.0183</td><td style = \"text-align: left;\">0.481</td><td style = \"text-align: left;\">0.986</td><td style = \"text-align: right;\">0</td><td style = \"text-align: left;\">Float64</td></tr><tr><td class = \"rowNumber\" style = \"font-weight: bold; text-align: right;\">14</td><td style = \"text-align: left;\">tempo</td><td style = \"text-align: left;\">122.623</td><td style = \"text-align: left;\">30.557</td><td style = \"text-align: left;\">120.066</td><td style = \"text-align: left;\">217.416</td><td style = \"text-align: right;\">0</td><td style = \"text-align: left;\">Float64</td></tr><tr><td class = \"rowNumber\" style = \"font-weight: bold; text-align: right;\">15</td><td style = \"text-align: left;\">duration_in min/ms</td><td style = \"text-align: left;\">2.00744e5</td><td style = \"text-align: left;\">0.50165</td><td style = \"text-align: left;\">209160.0</td><td style = \"text-align: left;\">1.47719e6</td><td style = \"text-align: right;\">0</td><td style = \"text-align: left;\">Float64</td></tr><tr><td class = \"rowNumber\" style = \"font-weight: bold; text-align: right;\">16</td><td style = \"text-align: left;\">time_signature</td><td style = \"font-style: italic; text-align: left;\"></td><td style = \"text-align: left;\">1</td><td style = \"font-style: italic; text-align: left;\"></td><td style = \"text-align: left;\">5</td><td style = \"text-align: right;\">0</td><td style = \"text-align: left;\">String</td></tr><tr><td class = \"rowNumber\" style = \"font-weight: bold; text-align: right;\">17</td><td style = \"text-align: left;\">Class</td><td style = \"font-style: italic; text-align: left;\"></td><td style = \"text-align: left;\">0</td><td style = \"font-style: italic; text-align: left;\"></td><td style = \"text-align: left;\">9</td><td style = \"text-align: right;\">0</td><td style = \"text-align: left;\">String</td></tr></tbody></table></div>"
      ],
      "text/latex": [
       "\\begin{tabular}{r|ccccccc}\n",
       "\t& variable & mean & min & median & max & nmissing & \\\\\n",
       "\t\\hline\n",
       "\t& Symbol & Union… & Any & Union… & Any & Int64 & \\\\\n",
       "\t\\hline\n",
       "\t1 & Artist Name &  & \\$NOT &  & ◊†◊ê◊ì◊î & 0 & $\\dots$ \\\\\n",
       "\t2 & Track Name &  & \"45\" &  & ◊™◊™◊ó◊†◊†◊ô ◊ê◊ú◊ô◊ô & 0 & $\\dots$ \\\\\n",
       "\t3 & Popularity & 44.5121 & 1.0 & 44.0 & 100.0 & 428 & $\\dots$ \\\\\n",
       "\t4 & danceability & 0.543433 & 0.0596 & 0.545 & 0.989 & 0 & $\\dots$ \\\\\n",
       "\t5 & energy & 0.662777 & 2.03e-5 & 0.7 & 1.0 & 0 & $\\dots$ \\\\\n",
       "\t6 & key &  & 1.0 &  & 9.0 & 2014 & $\\dots$ \\\\\n",
       "\t7 & loudness & -7.91066 & -39.952 & -7.016 & 1.355 & 0 & $\\dots$ \\\\\n",
       "\t8 & mode &  & 0 &  & 1 & 0 & $\\dots$ \\\\\n",
       "\t9 & speechiness & 0.079707 & 0.0225 & 0.0474 & 0.955 & 0 & $\\dots$ \\\\\n",
       "\t10 & acousticness & 0.247082 & 0.0 & 0.0814 & 0.996 & 0 & $\\dots$ \\\\\n",
       "\t11 & instrumentalness & 0.177562 & 1.0e-6 & 0.00391 & 0.996 & 4377 & $\\dots$ \\\\\n",
       "\t12 & liveness & 0.19617 & 0.0119 & 0.129 & 1.0 & 0 & $\\dots$ \\\\\n",
       "\t13 & valence & 0.486208 & 0.0183 & 0.481 & 0.986 & 0 & $\\dots$ \\\\\n",
       "\t14 & tempo & 122.623 & 30.557 & 120.066 & 217.416 & 0 & $\\dots$ \\\\\n",
       "\t15 & duration\\_in min/ms & 2.00744e5 & 0.50165 & 209160.0 & 1.47719e6 & 0 & $\\dots$ \\\\\n",
       "\t16 & time\\_signature &  & 1 &  & 5 & 0 & $\\dots$ \\\\\n",
       "\t17 & Class &  & 0 &  & 9 & 0 & $\\dots$ \\\\\n",
       "\\end{tabular}\n"
      ],
      "text/plain": [
       "\u001b[1m17×7 DataFrame\u001b[0m\n",
       "\u001b[1m Row \u001b[0m│\u001b[1m variable           \u001b[0m\u001b[1m mean      \u001b[0m\u001b[1m min     \u001b[0m\u001b[1m median   \u001b[0m\u001b[1m max                  \u001b[0m ⋯\n",
       "     │\u001b[90m Symbol             \u001b[0m\u001b[90m Union…    \u001b[0m\u001b[90m Any     \u001b[0m\u001b[90m Union…   \u001b[0m\u001b[90m Any                  \u001b[0m ⋯\n",
       "─────┼──────────────────────────────────────────────────────────────────────────\n",
       "   1 │ Artist Name        \u001b[90m           \u001b[0m $NOT    \u001b[90m          \u001b[0m ◊†◊ê◊ì◊î              ⋯\n",
       "   2 │ Track Name         \u001b[90m           \u001b[0m \"45\"    \u001b[90m          \u001b[0m ◊™◊™◊ó◊†◊†◊ô ◊ê◊ú◊ô◊ô\n",
       "   3 │ Popularity          44.5121    1.0      44.0      100.0\n",
       "   4 │ danceability        0.543433   0.0596   0.545     0.989\n",
       "   5 │ energy              0.662777   2.03e-5  0.7       1.0                   ⋯\n",
       "   6 │ key                \u001b[90m           \u001b[0m 1.0     \u001b[90m          \u001b[0m 9.0\n",
       "   7 │ loudness            -7.91066   -39.952  -7.016    1.355\n",
       "   8 │ mode               \u001b[90m           \u001b[0m 0       \u001b[90m          \u001b[0m 1\n",
       "   9 │ speechiness         0.079707   0.0225   0.0474    0.955                 ⋯\n",
       "  10 │ acousticness        0.247082   0.0      0.0814    0.996\n",
       "  11 │ instrumentalness    0.177562   1.0e-6   0.00391   0.996\n",
       "  12 │ liveness            0.19617    0.0119   0.129     1.0\n",
       "  13 │ valence             0.486208   0.0183   0.481     0.986                 ⋯\n",
       "  14 │ tempo               122.623    30.557   120.066   217.416\n",
       "  15 │ duration_in min/ms  2.00744e5  0.50165  209160.0  1.47719e6\n",
       "  16 │ time_signature     \u001b[90m           \u001b[0m 1       \u001b[90m          \u001b[0m 5\n",
       "  17 │ Class              \u001b[90m           \u001b[0m 0       \u001b[90m          \u001b[0m 9                     ⋯\n",
       "\u001b[36m                                                               2 columns omitted\u001b[0m"
      ]
     },
     "execution_count": 6,
     "metadata": {},
     "output_type": "execute_result"
    }
   ],
   "source": [
    "describe(df)"
   ]
  },
  {
   "cell_type": "code",
   "execution_count": 7,
   "metadata": {},
   "outputs": [
    {
     "data": {
      "text/html": [
       "<div><div style = \"float: left;\"><span>3×8 DataFrame</span></div><div style = \"clear: both;\"></div></div><div class = \"data-frame\" style = \"overflow-x: scroll;\"><table class = \"data-frame\" style = \"margin-bottom: 6px;\"><thead><tr class = \"header\"><th class = \"rowNumber\" style = \"font-weight: bold; text-align: right;\">Row</th><th style = \"text-align: left;\">variable</th><th style = \"text-align: left;\">nmissing</th><th style = \"text-align: left;\">eltype</th><th style = \"text-align: left;\">mean</th><th style = \"text-align: left;\">std</th><th style = \"text-align: left;\">min</th><th style = \"text-align: left;\">max</th><th style = \"text-align: left;\">prop</th></tr><tr class = \"subheader headerLastRow\"><th class = \"rowNumber\" style = \"font-weight: bold; text-align: right;\"></th><th title = \"Symbol\" style = \"text-align: left;\">Symbol</th><th title = \"Int64\" style = \"text-align: left;\">Int64</th><th title = \"Type\" style = \"text-align: left;\">Type</th><th title = \"Union{Nothing, Float64}\" style = \"text-align: left;\">Union…</th><th title = \"Union{Nothing, Float64}\" style = \"text-align: left;\">Union…</th><th title = \"Any\" style = \"text-align: left;\">Any</th><th title = \"Any\" style = \"text-align: left;\">Any</th><th title = \"Float64\" style = \"text-align: left;\">Float64</th></tr></thead><tbody><tr><td class = \"rowNumber\" style = \"font-weight: bold; text-align: right;\">1</td><td style = \"text-align: left;\">Popularity</td><td style = \"text-align: right;\">428</td><td style = \"text-align: left;\">Union{Missing, Float64}</td><td style = \"text-align: left;\">44.5121</td><td style = \"text-align: left;\">17.4269</td><td style = \"text-align: left;\">1.0</td><td style = \"text-align: left;\">100.0</td><td style = \"text-align: right;\">6.27658</td></tr><tr><td class = \"rowNumber\" style = \"font-weight: bold; text-align: right;\">2</td><td style = \"text-align: left;\">key</td><td style = \"text-align: right;\">2014</td><td style = \"text-align: left;\">Union{Missing, String}</td><td style = \"font-style: italic; text-align: left;\"></td><td style = \"font-style: italic; text-align: left;\"></td><td style = \"text-align: left;\">1.0</td><td style = \"text-align: left;\">9.0</td><td style = \"text-align: right;\">29.5351</td></tr><tr><td class = \"rowNumber\" style = \"font-weight: bold; text-align: right;\">3</td><td style = \"text-align: left;\">instrumentalness</td><td style = \"text-align: right;\">4377</td><td style = \"text-align: left;\">Union{Missing, Float64}</td><td style = \"text-align: left;\">0.177562</td><td style = \"text-align: left;\">0.304048</td><td style = \"text-align: left;\">1.0e-6</td><td style = \"text-align: left;\">0.996</td><td style = \"text-align: right;\">64.1883</td></tr></tbody></table></div>"
      ],
      "text/latex": [
       "\\begin{tabular}{r|ccccccc}\n",
       "\t& variable & nmissing & eltype & mean & std & min & \\\\\n",
       "\t\\hline\n",
       "\t& Symbol & Int64 & Type & Union… & Union… & Any & \\\\\n",
       "\t\\hline\n",
       "\t1 & Popularity & 428 & Union\\{Missing, Float64\\} & 44.5121 & 17.4269 & 1.0 & $\\dots$ \\\\\n",
       "\t2 & key & 2014 & Union\\{Missing, String\\} &  &  & 1.0 & $\\dots$ \\\\\n",
       "\t3 & instrumentalness & 4377 & Union\\{Missing, Float64\\} & 0.177562 & 0.304048 & 1.0e-6 & $\\dots$ \\\\\n",
       "\\end{tabular}\n"
      ],
      "text/plain": [
       "\u001b[1m3×8 DataFrame\u001b[0m\n",
       "\u001b[1m Row \u001b[0m│\u001b[1m variable         \u001b[0m\u001b[1m nmissing \u001b[0m\u001b[1m eltype                  \u001b[0m\u001b[1m mean     \u001b[0m\u001b[1m std     \u001b[0m ⋯\n",
       "     │\u001b[90m Symbol           \u001b[0m\u001b[90m Int64    \u001b[0m\u001b[90m Type                    \u001b[0m\u001b[90m Union…   \u001b[0m\u001b[90m Union…  \u001b[0m ⋯\n",
       "─────┼──────────────────────────────────────────────────────────────────────────\n",
       "   1 │ Popularity             428  Union{Missing, Float64}  44.5121   17.4269  ⋯\n",
       "   2 │ key                   2014  Union{Missing, String}  \u001b[90m          \u001b[0m\u001b[90m         \u001b[0m\n",
       "   3 │ instrumentalness      4377  Union{Missing, Float64}  0.177562  0.304048\n",
       "\u001b[36m                                                               3 columns omitted\u001b[0m"
      ]
     },
     "execution_count": 7,
     "metadata": {},
     "output_type": "execute_result"
    }
   ],
   "source": [
    "mvalues = describe(df,:nmissing,:eltype,:mean,:std,:min,:max)\n",
    "mvalues.prop = mvalues.nmissing./sum(mvalues.nmissing)*100\n",
    "mvalues = mvalues[mvalues.nmissing.>0,:]"
   ]
  },
  {
   "cell_type": "markdown",
   "metadata": {},
   "source": [
    "### Correlation analysis"
   ]
  },
  {
   "cell_type": "code",
   "execution_count": 265,
   "metadata": {},
   "outputs": [
    {
     "data": {
      "text/html": [
       "<div><div style = \"float: left;\"><span>11×3 DataFrame</span></div><div style = \"clear: both;\"></div></div><div class = \"data-frame\" style = \"overflow-x: scroll;\"><table class = \"data-frame\" style = \"margin-bottom: 6px;\"><thead><tr class = \"header\"><th class = \"rowNumber\" style = \"font-weight: bold; text-align: right;\">Row</th><th style = \"text-align: left;\">col_name</th><th style = \"text-align: left;\">popularity_corr</th><th style = \"text-align: left;\">instrumentalness_corr</th></tr><tr class = \"subheader headerLastRow\"><th class = \"rowNumber\" style = \"font-weight: bold; text-align: right;\"></th><th title = \"String\" style = \"text-align: left;\">String</th><th title = \"Float64\" style = \"text-align: left;\">Float64</th><th title = \"Float64\" style = \"text-align: left;\">Float64</th></tr></thead><tbody><tr><td class = \"rowNumber\" style = \"font-weight: bold; text-align: right;\">1</td><td style = \"text-align: left;\">Popularity</td><td style = \"text-align: right;\">1.0</td><td style = \"text-align: right;\">-0.170439</td></tr><tr><td class = \"rowNumber\" style = \"font-weight: bold; text-align: right;\">2</td><td style = \"text-align: left;\">danceability</td><td style = \"text-align: right;\">0.140033</td><td style = \"text-align: right;\">-0.199351</td></tr><tr><td class = \"rowNumber\" style = \"font-weight: bold; text-align: right;\">3</td><td style = \"text-align: left;\">energy</td><td style = \"text-align: right;\">0.0594193</td><td style = \"text-align: right;\">-0.168264</td></tr><tr><td class = \"rowNumber\" style = \"font-weight: bold; text-align: right;\">4</td><td style = \"text-align: left;\">loudness</td><td style = \"text-align: right;\">0.108875</td><td style = \"text-align: right;\">-0.332744</td></tr><tr><td class = \"rowNumber\" style = \"font-weight: bold; text-align: right;\">5</td><td style = \"text-align: left;\">speechiness</td><td style = \"text-align: right;\">-0.00484484</td><td style = \"text-align: right;\">-0.0748106</td></tr><tr><td class = \"rowNumber\" style = \"font-weight: bold; text-align: right;\">6</td><td style = \"text-align: left;\">acousticness</td><td style = \"text-align: right;\">-0.127425</td><td style = \"text-align: right;\">0.164733</td></tr><tr><td class = \"rowNumber\" style = \"font-weight: bold; text-align: right;\">7</td><td style = \"text-align: left;\">instrumentalness</td><td style = \"text-align: right;\">-0.170439</td><td style = \"text-align: right;\">1.0</td></tr><tr><td class = \"rowNumber\" style = \"font-weight: bold; text-align: right;\">8</td><td style = \"text-align: left;\">liveness</td><td style = \"text-align: right;\">-0.0795924</td><td style = \"text-align: right;\">-0.0395863</td></tr><tr><td class = \"rowNumber\" style = \"font-weight: bold; text-align: right;\">9</td><td style = \"text-align: left;\">valence</td><td style = \"text-align: right;\">0.0571226</td><td style = \"text-align: right;\">-0.222994</td></tr><tr><td class = \"rowNumber\" style = \"font-weight: bold; text-align: right;\">10</td><td style = \"text-align: left;\">tempo</td><td style = \"text-align: right;\">-0.00444452</td><td style = \"text-align: right;\">-0.0249589</td></tr><tr><td class = \"rowNumber\" style = \"font-weight: bold; text-align: right;\">11</td><td style = \"text-align: left;\">duration_in min/ms</td><td style = \"text-align: right;\">0.0045174</td><td style = \"text-align: right;\">0.00530777</td></tr></tbody></table></div>"
      ],
      "text/latex": [
       "\\begin{tabular}{r|ccc}\n",
       "\t& col\\_name & popularity\\_corr & instrumentalness\\_corr\\\\\n",
       "\t\\hline\n",
       "\t& String & Float64 & Float64\\\\\n",
       "\t\\hline\n",
       "\t1 & Popularity & 1.0 & -0.170439 \\\\\n",
       "\t2 & danceability & 0.140033 & -0.199351 \\\\\n",
       "\t3 & energy & 0.0594193 & -0.168264 \\\\\n",
       "\t4 & loudness & 0.108875 & -0.332744 \\\\\n",
       "\t5 & speechiness & -0.00484484 & -0.0748106 \\\\\n",
       "\t6 & acousticness & -0.127425 & 0.164733 \\\\\n",
       "\t7 & instrumentalness & -0.170439 & 1.0 \\\\\n",
       "\t8 & liveness & -0.0795924 & -0.0395863 \\\\\n",
       "\t9 & valence & 0.0571226 & -0.222994 \\\\\n",
       "\t10 & tempo & -0.00444452 & -0.0249589 \\\\\n",
       "\t11 & duration\\_in min/ms & 0.0045174 & 0.00530777 \\\\\n",
       "\\end{tabular}\n"
      ],
      "text/plain": [
       "\u001b[1m11×3 DataFrame\u001b[0m\n",
       "\u001b[1m Row \u001b[0m│\u001b[1m col_name           \u001b[0m\u001b[1m popularity_corr \u001b[0m\u001b[1m instrumentalness_corr \u001b[0m\n",
       "     │\u001b[90m String             \u001b[0m\u001b[90m Float64         \u001b[0m\u001b[90m Float64               \u001b[0m\n",
       "─────┼────────────────────────────────────────────────────────────\n",
       "   1 │ Popularity               1.0                   -0.170439\n",
       "   2 │ danceability             0.140033              -0.199351\n",
       "   3 │ energy                   0.0594193             -0.168264\n",
       "   4 │ loudness                 0.108875              -0.332744\n",
       "   5 │ speechiness             -0.00484484            -0.0748106\n",
       "   6 │ acousticness            -0.127425               0.164733\n",
       "   7 │ instrumentalness        -0.170439               1.0\n",
       "   8 │ liveness                -0.0795924             -0.0395863\n",
       "   9 │ valence                  0.0571226             -0.222994\n",
       "  10 │ tempo                   -0.00444452            -0.0249589\n",
       "  11 │ duration_in min/ms       0.0045174              0.00530777"
      ]
     },
     "execution_count": 265,
     "metadata": {},
     "output_type": "execute_result"
    }
   ],
   "source": [
    "na_numeric_columns = [\"Popularity\",\"instrumentalness\"]\n",
    "\n",
    "df_numerical_columns = select(df[completecases(df),:], Not(categorical_columns))\n",
    "\n",
    "corr_matrix = DataFrame(col_name=\"value\",popularity_corr=zeros(size(df_numerical_columns,2)),instrumentalness_corr=zeros(size(df_numerical_columns,2)))\n",
    "\n",
    "for (index,column) in enumerate(names(df_numerical_columns))\n",
    "    corr_matrix[index,\"col_name\"] = column\n",
    "    corr_matrix[index,\"popularity_corr\"] = cor(df_numerical_columns[:,\"Popularity\"],df_numerical_columns[:,column])\n",
    "    corr_matrix[index,\"instrumentalness_corr\"] = cor(df_numerical_columns[:,\"instrumentalness\"],df_numerical_columns[:,column])\n",
    "end\n",
    "\n",
    "corr_matrix"
   ]
  },
  {
   "cell_type": "markdown",
   "metadata": {},
   "source": [
    "### Missing values Imputation"
   ]
  },
  {
   "cell_type": "code",
   "execution_count": 8,
   "metadata": {},
   "outputs": [],
   "source": [
    "using ScikitLearn\n",
    "#@sk_import neighbors: KNeighborsClassifier\n",
    "@sk_import neighbors: KNeighborsRegressor\n",
    "@sk_import linear_model:LogisticRegression\n",
    "using ScikitLearn.CrossValidation: cross_val_score"
   ]
  },
  {
   "cell_type": "code",
   "execution_count": 56,
   "metadata": {},
   "outputs": [
    {
     "data": {
      "text/html": [
       "<style>#sk-container-id-6 {color: black;background-color: white;}#sk-container-id-6 pre{padding: 0;}#sk-container-id-6 div.sk-toggleable {background-color: white;}#sk-container-id-6 label.sk-toggleable__label {cursor: pointer;display: block;width: 100%;margin-bottom: 0;padding: 0.3em;box-sizing: border-box;text-align: center;}#sk-container-id-6 label.sk-toggleable__label-arrow:before {content: \"▸\";float: left;margin-right: 0.25em;color: #696969;}#sk-container-id-6 label.sk-toggleable__label-arrow:hover:before {color: black;}#sk-container-id-6 div.sk-estimator:hover label.sk-toggleable__label-arrow:before {color: black;}#sk-container-id-6 div.sk-toggleable__content {max-height: 0;max-width: 0;overflow: hidden;text-align: left;background-color: #f0f8ff;}#sk-container-id-6 div.sk-toggleable__content pre {margin: 0.2em;color: black;border-radius: 0.25em;background-color: #f0f8ff;}#sk-container-id-6 input.sk-toggleable__control:checked~div.sk-toggleable__content {max-height: 200px;max-width: 100%;overflow: auto;}#sk-container-id-6 input.sk-toggleable__control:checked~label.sk-toggleable__label-arrow:before {content: \"▾\";}#sk-container-id-6 div.sk-estimator input.sk-toggleable__control:checked~label.sk-toggleable__label {background-color: #d4ebff;}#sk-container-id-6 div.sk-label input.sk-toggleable__control:checked~label.sk-toggleable__label {background-color: #d4ebff;}#sk-container-id-6 input.sk-hidden--visually {border: 0;clip: rect(1px 1px 1px 1px);clip: rect(1px, 1px, 1px, 1px);height: 1px;margin: -1px;overflow: hidden;padding: 0;position: absolute;width: 1px;}#sk-container-id-6 div.sk-estimator {font-family: monospace;background-color: #f0f8ff;border: 1px dotted black;border-radius: 0.25em;box-sizing: border-box;margin-bottom: 0.5em;}#sk-container-id-6 div.sk-estimator:hover {background-color: #d4ebff;}#sk-container-id-6 div.sk-parallel-item::after {content: \"\";width: 100%;border-bottom: 1px solid gray;flex-grow: 1;}#sk-container-id-6 div.sk-label:hover label.sk-toggleable__label {background-color: #d4ebff;}#sk-container-id-6 div.sk-serial::before {content: \"\";position: absolute;border-left: 1px solid gray;box-sizing: border-box;top: 0;bottom: 0;left: 50%;z-index: 0;}#sk-container-id-6 div.sk-serial {display: flex;flex-direction: column;align-items: center;background-color: white;padding-right: 0.2em;padding-left: 0.2em;position: relative;}#sk-container-id-6 div.sk-item {position: relative;z-index: 1;}#sk-container-id-6 div.sk-parallel {display: flex;align-items: stretch;justify-content: center;background-color: white;position: relative;}#sk-container-id-6 div.sk-item::before, #sk-container-id-6 div.sk-parallel-item::before {content: \"\";position: absolute;border-left: 1px solid gray;box-sizing: border-box;top: 0;bottom: 0;left: 50%;z-index: -1;}#sk-container-id-6 div.sk-parallel-item {display: flex;flex-direction: column;z-index: 1;position: relative;background-color: white;}#sk-container-id-6 div.sk-parallel-item:first-child::after {align-self: flex-end;width: 50%;}#sk-container-id-6 div.sk-parallel-item:last-child::after {align-self: flex-start;width: 50%;}#sk-container-id-6 div.sk-parallel-item:only-child::after {width: 0;}#sk-container-id-6 div.sk-dashed-wrapped {border: 1px dashed gray;margin: 0 0.4em 0.5em 0.4em;box-sizing: border-box;padding-bottom: 0.4em;background-color: white;}#sk-container-id-6 div.sk-label label {font-family: monospace;font-weight: bold;display: inline-block;line-height: 1.2em;}#sk-container-id-6 div.sk-label-container {text-align: center;}#sk-container-id-6 div.sk-container {/* jupyter's `normalize.less` sets `[hidden] { display: none; }` but bootstrap.min.css set `[hidden] { display: none !important; }` so we also need the `!important` here to be able to override the default hidden behavior on the sphinx rendered scikit-learn.org. See: https://github.com/scikit-learn/scikit-learn/issues/21755 */display: inline-block !important;position: relative;}#sk-container-id-6 div.sk-text-repr-fallback {display: none;}</style><div id=\"sk-container-id-6\" class=\"sk-top-container\"><div class=\"sk-text-repr-fallback\"><pre>KNeighborsRegressor()</pre><b>In a Jupyter environment, please rerun this cell to show the HTML representation or trust the notebook. <br />On GitHub, the HTML representation is unable to render, please try loading this page with nbviewer.org.</b></div><div class=\"sk-container\" hidden><div class=\"sk-item\"><div class=\"sk-estimator sk-toggleable\"><input class=\"sk-toggleable__control sk-hidden--visually\" id=\"sk-estimator-id-6\" type=\"checkbox\" checked><label for=\"sk-estimator-id-6\" class=\"sk-toggleable__label sk-toggleable__label-arrow\">KNeighborsRegressor</label><div class=\"sk-toggleable__content\"><pre>KNeighborsRegressor()</pre></div></div></div></div></div>"
      ],
      "text/plain": [
       "PyObject KNeighborsRegressor()"
      ]
     },
     "execution_count": 56,
     "metadata": {},
     "output_type": "execute_result"
    }
   ],
   "source": [
    "df_numerical_columns = select(df[completecases(df),:], Not(categorical_columns))\n",
    "X = select(df_numerical_columns,Not([\"Popularity\",\"instrumentalness\"]))\n",
    "y1 = select(df_numerical_columns,\"Popularity\")\n",
    "y2 = select(df_numerical_columns,\"instrumentalness\")\n",
    "\n",
    "model = KNeighborsRegressor(n_neighbors=5)\n",
    "model.fit(Matrix(X), Matrix(y1))"
   ]
  },
  {
   "cell_type": "code",
   "execution_count": 57,
   "metadata": {},
   "outputs": [
    {
     "data": {
      "text/html": [
       "<div><div style = \"float: left;\"><span>428×10 DataFrame</span></div><div style = \"float: right;\"><span style = \"font-style: italic;\">403 rows omitted</span></div><div style = \"clear: both;\"></div></div><div class = \"data-frame\" style = \"overflow-x: scroll;\"><table class = \"data-frame\" style = \"margin-bottom: 6px;\"><thead><tr class = \"header\"><th class = \"rowNumber\" style = \"font-weight: bold; text-align: right;\">Row</th><th style = \"text-align: left;\">Popularity</th><th style = \"text-align: left;\">danceability</th><th style = \"text-align: left;\">energy</th><th style = \"text-align: left;\">loudness</th><th style = \"text-align: left;\">speechiness</th><th style = \"text-align: left;\">acousticness</th><th style = \"text-align: left;\">liveness</th><th style = \"text-align: left;\">valence</th><th style = \"text-align: left;\">tempo</th><th style = \"text-align: left;\">duration_in min/ms</th></tr><tr class = \"subheader headerLastRow\"><th class = \"rowNumber\" style = \"font-weight: bold; text-align: right;\"></th><th title = \"Union{Missing, Float64}\" style = \"text-align: left;\">Float64?</th><th title = \"Float64\" style = \"text-align: left;\">Float64</th><th title = \"Float64\" style = \"text-align: left;\">Float64</th><th title = \"Float64\" style = \"text-align: left;\">Float64</th><th title = \"Float64\" style = \"text-align: left;\">Float64</th><th title = \"Float64\" style = \"text-align: left;\">Float64</th><th title = \"Float64\" style = \"text-align: left;\">Float64</th><th title = \"Float64\" style = \"text-align: left;\">Float64</th><th title = \"Float64\" style = \"text-align: left;\">Float64</th><th title = \"Float64\" style = \"text-align: left;\">Float64</th></tr></thead><tbody><tr><td class = \"rowNumber\" style = \"font-weight: bold; text-align: right;\">1</td><td style = \"font-style: italic; text-align: right;\">missing</td><td style = \"text-align: right;\">0.548</td><td style = \"text-align: right;\">0.711</td><td style = \"text-align: right;\">-8.44</td><td style = \"text-align: right;\">0.107</td><td style = \"text-align: right;\">0.542</td><td style = \"text-align: right;\">0.355</td><td style = \"text-align: right;\">0.618</td><td style = \"text-align: right;\">119.675</td><td style = \"text-align: right;\">4.01563</td></tr><tr><td class = \"rowNumber\" style = \"font-weight: bold; text-align: right;\">2</td><td style = \"font-style: italic; text-align: right;\">missing</td><td style = \"text-align: right;\">0.618</td><td style = \"text-align: right;\">0.438</td><td style = \"text-align: right;\">-7.495</td><td style = \"text-align: right;\">0.0762</td><td style = \"text-align: right;\">0.407</td><td style = \"text-align: right;\">0.5</td><td style = \"text-align: right;\">0.651</td><td style = \"text-align: right;\">155.014</td><td style = \"text-align: right;\">209307.0</td></tr><tr><td class = \"rowNumber\" style = \"font-weight: bold; text-align: right;\">3</td><td style = \"font-style: italic; text-align: right;\">missing</td><td style = \"text-align: right;\">0.523</td><td style = \"text-align: right;\">0.441</td><td style = \"text-align: right;\">-9.928</td><td style = \"text-align: right;\">0.0311</td><td style = \"text-align: right;\">0.465</td><td style = \"text-align: right;\">0.365</td><td style = \"text-align: right;\">0.49</td><td style = \"text-align: right;\">171.246</td><td style = \"text-align: right;\">3.38512</td></tr><tr><td class = \"rowNumber\" style = \"font-weight: bold; text-align: right;\">4</td><td style = \"font-style: italic; text-align: right;\">missing</td><td style = \"text-align: right;\">0.381</td><td style = \"text-align: right;\">0.214</td><td style = \"text-align: right;\">-11.629</td><td style = \"text-align: right;\">0.0337</td><td style = \"text-align: right;\">0.944</td><td style = \"text-align: right;\">0.106</td><td style = \"text-align: right;\">0.393</td><td style = \"text-align: right;\">127.581</td><td style = \"text-align: right;\">3.586</td></tr><tr><td class = \"rowNumber\" style = \"font-weight: bold; text-align: right;\">5</td><td style = \"font-style: italic; text-align: right;\">missing</td><td style = \"text-align: right;\">0.545</td><td style = \"text-align: right;\">0.919</td><td style = \"text-align: right;\">-7.679</td><td style = \"text-align: right;\">0.0483</td><td style = \"text-align: right;\">0.00269</td><td style = \"text-align: right;\">0.0978</td><td style = \"text-align: right;\">0.386</td><td style = \"text-align: right;\">104.364</td><td style = \"text-align: right;\">313573.0</td></tr><tr><td class = \"rowNumber\" style = \"font-weight: bold; text-align: right;\">6</td><td style = \"font-style: italic; text-align: right;\">missing</td><td style = \"text-align: right;\">0.521</td><td style = \"text-align: right;\">0.527</td><td style = \"text-align: right;\">-6.371</td><td style = \"text-align: right;\">0.0296</td><td style = \"text-align: right;\">0.0931</td><td style = \"text-align: right;\">0.106</td><td style = \"text-align: right;\">0.273</td><td style = \"text-align: right;\">122.271</td><td style = \"text-align: right;\">259627.0</td></tr><tr><td class = \"rowNumber\" style = \"font-weight: bold; text-align: right;\">7</td><td style = \"font-style: italic; text-align: right;\">missing</td><td style = \"text-align: right;\">0.416</td><td style = \"text-align: right;\">0.623</td><td style = \"text-align: right;\">-7.898</td><td style = \"text-align: right;\">0.045</td><td style = \"text-align: right;\">0.121</td><td style = \"text-align: right;\">0.27</td><td style = \"text-align: right;\">0.194</td><td style = \"text-align: right;\">130.175</td><td style = \"text-align: right;\">311625.0</td></tr><tr><td class = \"rowNumber\" style = \"font-weight: bold; text-align: right;\">8</td><td style = \"font-style: italic; text-align: right;\">missing</td><td style = \"text-align: right;\">0.753</td><td style = \"text-align: right;\">0.591</td><td style = \"text-align: right;\">-7.091</td><td style = \"text-align: right;\">0.045</td><td style = \"text-align: right;\">0.0741</td><td style = \"text-align: right;\">0.108</td><td style = \"text-align: right;\">0.563</td><td style = \"text-align: right;\">101.941</td><td style = \"text-align: right;\">2.74222</td></tr><tr><td class = \"rowNumber\" style = \"font-weight: bold; text-align: right;\">9</td><td style = \"font-style: italic; text-align: right;\">missing</td><td style = \"text-align: right;\">0.368</td><td style = \"text-align: right;\">0.274</td><td style = \"text-align: right;\">-14.878</td><td style = \"text-align: right;\">0.0413</td><td style = \"text-align: right;\">0.956</td><td style = \"text-align: right;\">0.0658</td><td style = \"text-align: right;\">0.0459</td><td style = \"text-align: right;\">84.549</td><td style = \"text-align: right;\">4.5</td></tr><tr><td class = \"rowNumber\" style = \"font-weight: bold; text-align: right;\">10</td><td style = \"font-style: italic; text-align: right;\">missing</td><td style = \"text-align: right;\">0.533</td><td style = \"text-align: right;\">0.565</td><td style = \"text-align: right;\">-7.092</td><td style = \"text-align: right;\">0.0249</td><td style = \"text-align: right;\">0.399</td><td style = \"text-align: right;\">0.315</td><td style = \"text-align: right;\">0.34</td><td style = \"text-align: right;\">82.973</td><td style = \"text-align: right;\">4.33933</td></tr><tr><td class = \"rowNumber\" style = \"font-weight: bold; text-align: right;\">11</td><td style = \"font-style: italic; text-align: right;\">missing</td><td style = \"text-align: right;\">0.63</td><td style = \"text-align: right;\">0.616</td><td style = \"text-align: right;\">-8.128</td><td style = \"text-align: right;\">0.0309</td><td style = \"text-align: right;\">0.463</td><td style = \"text-align: right;\">0.173</td><td style = \"text-align: right;\">0.509</td><td style = \"text-align: right;\">118.65</td><td style = \"text-align: right;\">4.51288</td></tr><tr><td class = \"rowNumber\" style = \"font-weight: bold; text-align: right;\">12</td><td style = \"font-style: italic; text-align: right;\">missing</td><td style = \"text-align: right;\">0.759</td><td style = \"text-align: right;\">0.459</td><td style = \"text-align: right;\">-5.187</td><td style = \"text-align: right;\">0.0948</td><td style = \"text-align: right;\">0.00323</td><td style = \"text-align: right;\">0.0906</td><td style = \"text-align: right;\">0.695</td><td style = \"text-align: right;\">109.997</td><td style = \"text-align: right;\">164442.0</td></tr><tr><td class = \"rowNumber\" style = \"font-weight: bold; text-align: right;\">13</td><td style = \"font-style: italic; text-align: right;\">missing</td><td style = \"text-align: right;\">0.568</td><td style = \"text-align: right;\">0.981</td><td style = \"text-align: right;\">-5.161</td><td style = \"text-align: right;\">0.0835</td><td style = \"text-align: right;\">0.000322</td><td style = \"text-align: right;\">0.133</td><td style = \"text-align: right;\">0.183</td><td style = \"text-align: right;\">122.04</td><td style = \"text-align: right;\">224028.0</td></tr><tr><td style = \"text-align: right;\">&vellip;</td><td style = \"text-align: right;\">&vellip;</td><td style = \"text-align: right;\">&vellip;</td><td style = \"text-align: right;\">&vellip;</td><td style = \"text-align: right;\">&vellip;</td><td style = \"text-align: right;\">&vellip;</td><td style = \"text-align: right;\">&vellip;</td><td style = \"text-align: right;\">&vellip;</td><td style = \"text-align: right;\">&vellip;</td><td style = \"text-align: right;\">&vellip;</td><td style = \"text-align: right;\">&vellip;</td></tr><tr><td class = \"rowNumber\" style = \"font-weight: bold; text-align: right;\">417</td><td style = \"font-style: italic; text-align: right;\">missing</td><td style = \"text-align: right;\">0.581</td><td style = \"text-align: right;\">0.839</td><td style = \"text-align: right;\">-5.468</td><td style = \"text-align: right;\">0.0552</td><td style = \"text-align: right;\">0.00401</td><td style = \"text-align: right;\">0.163</td><td style = \"text-align: right;\">0.224</td><td style = \"text-align: right;\">110.049</td><td style = \"text-align: right;\">132614.0</td></tr><tr><td class = \"rowNumber\" style = \"font-weight: bold; text-align: right;\">418</td><td style = \"font-style: italic; text-align: right;\">missing</td><td style = \"text-align: right;\">0.423</td><td style = \"text-align: right;\">0.158</td><td style = \"text-align: right;\">-15.59</td><td style = \"text-align: right;\">0.0346</td><td style = \"text-align: right;\">0.717</td><td style = \"text-align: right;\">0.0975</td><td style = \"text-align: right;\">0.185</td><td style = \"text-align: right;\">106.974</td><td style = \"text-align: right;\">5.58888</td></tr><tr><td class = \"rowNumber\" style = \"font-weight: bold; text-align: right;\">419</td><td style = \"font-style: italic; text-align: right;\">missing</td><td style = \"text-align: right;\">0.624</td><td style = \"text-align: right;\">0.694</td><td style = \"text-align: right;\">-8.084</td><td style = \"text-align: right;\">0.0258</td><td style = \"text-align: right;\">0.338</td><td style = \"text-align: right;\">0.109</td><td style = \"text-align: right;\">0.912</td><td style = \"text-align: right;\">141.968</td><td style = \"text-align: right;\">3.44533</td></tr><tr><td class = \"rowNumber\" style = \"font-weight: bold; text-align: right;\">420</td><td style = \"font-style: italic; text-align: right;\">missing</td><td style = \"text-align: right;\">0.411</td><td style = \"text-align: right;\">0.512</td><td style = \"text-align: right;\">-7.491</td><td style = \"text-align: right;\">0.027</td><td style = \"text-align: right;\">0.387</td><td style = \"text-align: right;\">0.0676</td><td style = \"text-align: right;\">0.0544</td><td style = \"text-align: right;\">83.399</td><td style = \"text-align: right;\">3.44397</td></tr><tr><td class = \"rowNumber\" style = \"font-weight: bold; text-align: right;\">421</td><td style = \"font-style: italic; text-align: right;\">missing</td><td style = \"text-align: right;\">0.393</td><td style = \"text-align: right;\">0.178</td><td style = \"text-align: right;\">-12.016</td><td style = \"text-align: right;\">0.0318</td><td style = \"text-align: right;\">0.859</td><td style = \"text-align: right;\">0.117</td><td style = \"text-align: right;\">0.178</td><td style = \"text-align: right;\">123.141</td><td style = \"text-align: right;\">4.53333</td></tr><tr><td class = \"rowNumber\" style = \"font-weight: bold; text-align: right;\">422</td><td style = \"font-style: italic; text-align: right;\">missing</td><td style = \"text-align: right;\">0.676</td><td style = \"text-align: right;\">0.92</td><td style = \"text-align: right;\">-7.96</td><td style = \"text-align: right;\">0.0435</td><td style = \"text-align: right;\">0.00101</td><td style = \"text-align: right;\">0.248</td><td style = \"text-align: right;\">0.624</td><td style = \"text-align: right;\">126.341</td><td style = \"text-align: right;\">4.48933</td></tr><tr><td class = \"rowNumber\" style = \"font-weight: bold; text-align: right;\">423</td><td style = \"font-style: italic; text-align: right;\">missing</td><td style = \"text-align: right;\">0.541</td><td style = \"text-align: right;\">0.958</td><td style = \"text-align: right;\">-4.669</td><td style = \"text-align: right;\">0.148</td><td style = \"text-align: right;\">0.000545</td><td style = \"text-align: right;\">0.246</td><td style = \"text-align: right;\">0.249</td><td style = \"text-align: right;\">95.015</td><td style = \"text-align: right;\">239766.0</td></tr><tr><td class = \"rowNumber\" style = \"font-weight: bold; text-align: right;\">424</td><td style = \"font-style: italic; text-align: right;\">missing</td><td style = \"text-align: right;\">0.464</td><td style = \"text-align: right;\">0.493</td><td style = \"text-align: right;\">-5.626</td><td style = \"text-align: right;\">0.0302</td><td style = \"text-align: right;\">0.273</td><td style = \"text-align: right;\">0.221</td><td style = \"text-align: right;\">0.244</td><td style = \"text-align: right;\">120.99</td><td style = \"text-align: right;\">3.74178</td></tr><tr><td class = \"rowNumber\" style = \"font-weight: bold; text-align: right;\">425</td><td style = \"font-style: italic; text-align: right;\">missing</td><td style = \"text-align: right;\">0.502</td><td style = \"text-align: right;\">0.991</td><td style = \"text-align: right;\">-4.612</td><td style = \"text-align: right;\">0.135</td><td style = \"text-align: right;\">0.000173</td><td style = \"text-align: right;\">0.332</td><td style = \"text-align: right;\">0.285</td><td style = \"text-align: right;\">99.953</td><td style = \"text-align: right;\">191100.0</td></tr><tr><td class = \"rowNumber\" style = \"font-weight: bold; text-align: right;\">426</td><td style = \"font-style: italic; text-align: right;\">missing</td><td style = \"text-align: right;\">0.61</td><td style = \"text-align: right;\">0.757</td><td style = \"text-align: right;\">-6.271</td><td style = \"text-align: right;\">0.0377</td><td style = \"text-align: right;\">0.0754</td><td style = \"text-align: right;\">0.147</td><td style = \"text-align: right;\">0.468</td><td style = \"text-align: right;\">162.05</td><td style = \"text-align: right;\">199705.0</td></tr><tr><td class = \"rowNumber\" style = \"font-weight: bold; text-align: right;\">427</td><td style = \"font-style: italic; text-align: right;\">missing</td><td style = \"text-align: right;\">0.385</td><td style = \"text-align: right;\">0.983</td><td style = \"text-align: right;\">-4.052</td><td style = \"text-align: right;\">0.106</td><td style = \"text-align: right;\">9.8e-5</td><td style = \"text-align: right;\">0.291</td><td style = \"text-align: right;\">0.354</td><td style = \"text-align: right;\">156.987</td><td style = \"text-align: right;\">162803.0</td></tr><tr><td class = \"rowNumber\" style = \"font-weight: bold; text-align: right;\">428</td><td style = \"font-style: italic; text-align: right;\">missing</td><td style = \"text-align: right;\">0.585</td><td style = \"text-align: right;\">0.457</td><td style = \"text-align: right;\">-6.777</td><td style = \"text-align: right;\">0.0329</td><td style = \"text-align: right;\">0.158</td><td style = \"text-align: right;\">0.101</td><td style = \"text-align: right;\">0.265</td><td style = \"text-align: right;\">77.999</td><td style = \"text-align: right;\">3.43222</td></tr></tbody></table></div>"
      ],
      "text/latex": [
       "\\begin{tabular}{r|cccccccc}\n",
       "\t& Popularity & danceability & energy & loudness & speechiness & acousticness & liveness & \\\\\n",
       "\t\\hline\n",
       "\t& Float64? & Float64 & Float64 & Float64 & Float64 & Float64 & Float64 & \\\\\n",
       "\t\\hline\n",
       "\t1 & \\emph{missing} & 0.548 & 0.711 & -8.44 & 0.107 & 0.542 & 0.355 & $\\dots$ \\\\\n",
       "\t2 & \\emph{missing} & 0.618 & 0.438 & -7.495 & 0.0762 & 0.407 & 0.5 & $\\dots$ \\\\\n",
       "\t3 & \\emph{missing} & 0.523 & 0.441 & -9.928 & 0.0311 & 0.465 & 0.365 & $\\dots$ \\\\\n",
       "\t4 & \\emph{missing} & 0.381 & 0.214 & -11.629 & 0.0337 & 0.944 & 0.106 & $\\dots$ \\\\\n",
       "\t5 & \\emph{missing} & 0.545 & 0.919 & -7.679 & 0.0483 & 0.00269 & 0.0978 & $\\dots$ \\\\\n",
       "\t6 & \\emph{missing} & 0.521 & 0.527 & -6.371 & 0.0296 & 0.0931 & 0.106 & $\\dots$ \\\\\n",
       "\t7 & \\emph{missing} & 0.416 & 0.623 & -7.898 & 0.045 & 0.121 & 0.27 & $\\dots$ \\\\\n",
       "\t8 & \\emph{missing} & 0.753 & 0.591 & -7.091 & 0.045 & 0.0741 & 0.108 & $\\dots$ \\\\\n",
       "\t9 & \\emph{missing} & 0.368 & 0.274 & -14.878 & 0.0413 & 0.956 & 0.0658 & $\\dots$ \\\\\n",
       "\t10 & \\emph{missing} & 0.533 & 0.565 & -7.092 & 0.0249 & 0.399 & 0.315 & $\\dots$ \\\\\n",
       "\t11 & \\emph{missing} & 0.63 & 0.616 & -8.128 & 0.0309 & 0.463 & 0.173 & $\\dots$ \\\\\n",
       "\t12 & \\emph{missing} & 0.759 & 0.459 & -5.187 & 0.0948 & 0.00323 & 0.0906 & $\\dots$ \\\\\n",
       "\t13 & \\emph{missing} & 0.568 & 0.981 & -5.161 & 0.0835 & 0.000322 & 0.133 & $\\dots$ \\\\\n",
       "\t14 & \\emph{missing} & 0.408 & 0.242 & -15.35 & 0.0328 & 0.538 & 0.0931 & $\\dots$ \\\\\n",
       "\t15 & \\emph{missing} & 0.339 & 0.821 & -5.549 & 0.143 & 0.048 & 0.0938 & $\\dots$ \\\\\n",
       "\t16 & \\emph{missing} & 0.752 & 0.784 & -4.942 & 0.0753 & 0.322 & 0.11 & $\\dots$ \\\\\n",
       "\t17 & \\emph{missing} & 0.456 & 0.383 & -9.516 & 0.0263 & 0.715 & 0.127 & $\\dots$ \\\\\n",
       "\t18 & \\emph{missing} & 0.567 & 0.919 & -4.425 & 0.0713 & 0.0108 & 0.0819 & $\\dots$ \\\\\n",
       "\t19 & \\emph{missing} & 0.631 & 0.461 & -7.912 & 0.0246 & 0.417 & 0.099 & $\\dots$ \\\\\n",
       "\t20 & \\emph{missing} & 0.629 & 0.208 & -16.225 & 0.0324 & 0.824 & 0.107 & $\\dots$ \\\\\n",
       "\t21 & \\emph{missing} & 0.447 & 0.581 & -4.513 & 0.0315 & 0.511 & 0.126 & $\\dots$ \\\\\n",
       "\t22 & \\emph{missing} & 0.444 & 0.991 & -5.412 & 0.101 & 1.65e-5 & 0.118 & $\\dots$ \\\\\n",
       "\t23 & \\emph{missing} & 0.533 & 0.417 & -14.248 & 0.0402 & 0.607 & 0.252 & $\\dots$ \\\\\n",
       "\t24 & \\emph{missing} & 0.494 & 0.506 & -8.298 & 0.398 & 0.373 & 0.105 & $\\dots$ \\\\\n",
       "\t25 & \\emph{missing} & 0.74 & 0.646 & -5.838 & 0.375 & 0.0766 & 0.386 & $\\dots$ \\\\\n",
       "\t26 & \\emph{missing} & 0.493 & 0.968 & -3.615 & 0.0974 & 8.56e-5 & 0.323 & $\\dots$ \\\\\n",
       "\t27 & \\emph{missing} & 0.82 & 0.452 & -9.796 & 0.0348 & 0.543 & 0.0714 & $\\dots$ \\\\\n",
       "\t28 & \\emph{missing} & 0.801 & 0.391 & -8.063 & 0.178 & 0.151 & 0.137 & $\\dots$ \\\\\n",
       "\t29 & \\emph{missing} & 0.824 & 0.812 & -5.367 & 0.18 & 0.189 & 0.269 & $\\dots$ \\\\\n",
       "\t30 & \\emph{missing} & 0.159 & 0.126 & -19.521 & 0.0467 & 0.921 & 0.0847 & $\\dots$ \\\\\n",
       "\t$\\dots$ & $\\dots$ & $\\dots$ & $\\dots$ & $\\dots$ & $\\dots$ & $\\dots$ & $\\dots$ &  \\\\\n",
       "\\end{tabular}\n"
      ],
      "text/plain": [
       "\u001b[1m428×10 DataFrame\u001b[0m\n",
       "\u001b[1m Row \u001b[0m│\u001b[1m Popularity \u001b[0m\u001b[1m danceability \u001b[0m\u001b[1m energy  \u001b[0m\u001b[1m loudness \u001b[0m\u001b[1m speechiness \u001b[0m\u001b[1m acousticness \u001b[0m\u001b[1m\u001b[0m ⋯\n",
       "     │\u001b[90m Float64?   \u001b[0m\u001b[90m Float64      \u001b[0m\u001b[90m Float64 \u001b[0m\u001b[90m Float64  \u001b[0m\u001b[90m Float64     \u001b[0m\u001b[90m Float64      \u001b[0m\u001b[90m\u001b[0m ⋯\n",
       "─────┼──────────────────────────────────────────────────────────────────────────\n",
       "   1 │\u001b[90m    missing \u001b[0m        0.548    0.711    -8.44        0.107       0.542     ⋯\n",
       "   2 │\u001b[90m    missing \u001b[0m        0.618    0.438    -7.495       0.0762      0.407\n",
       "   3 │\u001b[90m    missing \u001b[0m        0.523    0.441    -9.928       0.0311      0.465\n",
       "   4 │\u001b[90m    missing \u001b[0m        0.381    0.214   -11.629       0.0337      0.944\n",
       "   5 │\u001b[90m    missing \u001b[0m        0.545    0.919    -7.679       0.0483      0.00269   ⋯\n",
       "   6 │\u001b[90m    missing \u001b[0m        0.521    0.527    -6.371       0.0296      0.0931\n",
       "   7 │\u001b[90m    missing \u001b[0m        0.416    0.623    -7.898       0.045       0.121\n",
       "   8 │\u001b[90m    missing \u001b[0m        0.753    0.591    -7.091       0.045       0.0741\n",
       "   9 │\u001b[90m    missing \u001b[0m        0.368    0.274   -14.878       0.0413      0.956     ⋯\n",
       "  10 │\u001b[90m    missing \u001b[0m        0.533    0.565    -7.092       0.0249      0.399\n",
       "  11 │\u001b[90m    missing \u001b[0m        0.63     0.616    -8.128       0.0309      0.463\n",
       "  ⋮  │     ⋮            ⋮           ⋮        ⋮           ⋮            ⋮        ⋱\n",
       " 419 │\u001b[90m    missing \u001b[0m        0.624    0.694    -8.084       0.0258      0.338\n",
       " 420 │\u001b[90m    missing \u001b[0m        0.411    0.512    -7.491       0.027       0.387     ⋯\n",
       " 421 │\u001b[90m    missing \u001b[0m        0.393    0.178   -12.016       0.0318      0.859\n",
       " 422 │\u001b[90m    missing \u001b[0m        0.676    0.92     -7.96        0.0435      0.00101\n",
       " 423 │\u001b[90m    missing \u001b[0m        0.541    0.958    -4.669       0.148       0.000545\n",
       " 424 │\u001b[90m    missing \u001b[0m        0.464    0.493    -5.626       0.0302      0.273     ⋯\n",
       " 425 │\u001b[90m    missing \u001b[0m        0.502    0.991    -4.612       0.135       0.000173\n",
       " 426 │\u001b[90m    missing \u001b[0m        0.61     0.757    -6.271       0.0377      0.0754\n",
       " 427 │\u001b[90m    missing \u001b[0m        0.385    0.983    -4.052       0.106       9.8e-5\n",
       " 428 │\u001b[90m    missing \u001b[0m        0.585    0.457    -6.777       0.0329      0.158     ⋯\n",
       "\u001b[36m                                                  4 columns and 407 rows omitted\u001b[0m"
      ]
     },
     "execution_count": 57,
     "metadata": {},
     "output_type": "execute_result"
    }
   ],
   "source": [
    "df_numerical_columns = select(df, Not(categorical_columns))\n",
    "\n",
    "df_instrum = select(df_numerical_columns,Not([\"Popularity\"]))\n",
    "df_instrum = df_instrum[completecases(df_instrum).==0,:]\n",
    "\n",
    "df_popular = select(df_numerical_columns,Not([\"instrumentalness\"]))\n",
    "df_popular = df_popular[completecases(df_popular).==0,:]"
   ]
  },
  {
   "cell_type": "code",
   "execution_count": 61,
   "metadata": {},
   "outputs": [
    {
     "data": {
      "text/plain": [
       "10-element Vector{String}:\n",
       " \"Popularity\"\n",
       " \"danceability\"\n",
       " \"energy\"\n",
       " \"loudness\"\n",
       " \"speechiness\"\n",
       " \"acousticness\"\n",
       " \"liveness\"\n",
       " \"valence\"\n",
       " \"tempo\"\n",
       " \"duration_in min/ms\""
      ]
     },
     "execution_count": 61,
     "metadata": {},
     "output_type": "execute_result"
    }
   ],
   "source": [
    "names(df_popular)"
   ]
  },
  {
   "cell_type": "code",
   "execution_count": 129,
   "metadata": {},
   "outputs": [
    {
     "ename": "LoadError",
     "evalue": "PyError ($(Expr(:escape, :(ccall(#= C:\\Users\\mhorm\\.julia\\packages\\PyCall\\ygXW2\\src\\pyfncall.jl:43 =# @pysym(:PyObject_Call), PyPtr, (PyPtr, PyPtr, PyPtr), o, pyargsptr, kw))))) <class 'ValueError'>\nValueError('Expected 2D array, got 1D array instead:\\narray=[ 8.54000e-01  5.64000e-01 -4.96400e+00  4.85000e-02  1.71000e-02\\n  8.49000e-02  8.99000e-01  1.34071e+02  2.34596e+05].\\nReshape your data either using array.reshape(-1, 1) if your data has a single feature or array.reshape(1, -1) if it contains a single sample.')\n  File \"C:\\Users\\mhorm\\.julia\\conda\\3\\lib\\site-packages\\sklearn\\neighbors\\_regression.py\", line 229, in predict\n    neigh_ind = self.kneighbors(X, return_distance=False)\n  File \"C:\\Users\\mhorm\\.julia\\conda\\3\\lib\\site-packages\\sklearn\\neighbors\\_base.py\", line 745, in kneighbors\n    X = self._validate_data(X, accept_sparse=\"csr\", reset=False, order=\"C\")\n  File \"C:\\Users\\mhorm\\.julia\\conda\\3\\lib\\site-packages\\sklearn\\base.py\", line 577, in _validate_data\n    X = check_array(X, input_name=\"X\", **check_params)\n  File \"C:\\Users\\mhorm\\.julia\\conda\\3\\lib\\site-packages\\sklearn\\utils\\validation.py\", line 879, in check_array\n    raise ValueError(\n",
     "output_type": "error",
     "traceback": [
      "PyError ($(Expr(:escape, :(ccall(#= C:\\Users\\mhorm\\.julia\\packages\\PyCall\\ygXW2\\src\\pyfncall.jl:43 =# @pysym(:PyObject_Call), PyPtr, (PyPtr, PyPtr, PyPtr), o, pyargsptr, kw))))) <class 'ValueError'>\nValueError('Expected 2D array, got 1D array instead:\\narray=[ 8.54000e-01  5.64000e-01 -4.96400e+00  4.85000e-02  1.71000e-02\\n  8.49000e-02  8.99000e-01  1.34071e+02  2.34596e+05].\\nReshape your data either using array.reshape(-1, 1) if your data has a single feature or array.reshape(1, -1) if it contains a single sample.')\n  File \"C:\\Users\\mhorm\\.julia\\conda\\3\\lib\\site-packages\\sklearn\\neighbors\\_regression.py\", line 229, in predict\n    neigh_ind = self.kneighbors(X, return_distance=False)\n  File \"C:\\Users\\mhorm\\.julia\\conda\\3\\lib\\site-packages\\sklearn\\neighbors\\_base.py\", line 745, in kneighbors\n    X = self._validate_data(X, accept_sparse=\"csr\", reset=False, order=\"C\")\n  File \"C:\\Users\\mhorm\\.julia\\conda\\3\\lib\\site-packages\\sklearn\\base.py\", line 577, in _validate_data\n    X = check_array(X, input_name=\"X\", **check_params)\n  File \"C:\\Users\\mhorm\\.julia\\conda\\3\\lib\\site-packages\\sklearn\\utils\\validation.py\", line 879, in check_array\n    raise ValueError(\n",
      "",
      "Stacktrace:",
      "  [1] pyerr_check",
      "    @ C:\\Users\\mhorm\\.julia\\packages\\PyCall\\ygXW2\\src\\exception.jl:62 [inlined]",
      "  [2] pyerr_check",
      "    @ C:\\Users\\mhorm\\.julia\\packages\\PyCall\\ygXW2\\src\\exception.jl:66 [inlined]",
      "  [3] _handle_error(msg::String)",
      "    @ PyCall C:\\Users\\mhorm\\.julia\\packages\\PyCall\\ygXW2\\src\\exception.jl:83",
      "  [4] macro expansion",
      "    @ C:\\Users\\mhorm\\.julia\\packages\\PyCall\\ygXW2\\src\\exception.jl:97 [inlined]",
      "  [5] #107",
      "    @ C:\\Users\\mhorm\\.julia\\packages\\PyCall\\ygXW2\\src\\pyfncall.jl:43 [inlined]",
      "  [6] disable_sigint",
      "    @ .\\c.jl:473 [inlined]",
      "  [7] __pycall!",
      "    @ C:\\Users\\mhorm\\.julia\\packages\\PyCall\\ygXW2\\src\\pyfncall.jl:42 [inlined]",
      "  [8] _pycall!(ret::PyCall.PyObject, o::PyCall.PyObject, args::Tuple{Vector{Float64}}, nargs::Int64, kw::Ptr{Nothing})",
      "    @ PyCall C:\\Users\\mhorm\\.julia\\packages\\PyCall\\ygXW2\\src\\pyfncall.jl:29",
      "  [9] _pycall!",
      "    @ C:\\Users\\mhorm\\.julia\\packages\\PyCall\\ygXW2\\src\\pyfncall.jl:11 [inlined]",
      " [10] #_#114",
      "    @ C:\\Users\\mhorm\\.julia\\packages\\PyCall\\ygXW2\\src\\pyfncall.jl:86 [inlined]",
      " [11] (::PyCall.PyObject)(args::Vector{Float64})",
      "    @ PyCall C:\\Users\\mhorm\\.julia\\packages\\PyCall\\ygXW2\\src\\pyfncall.jl:86",
      " [12] top-level scope",
      "    @ In[129]:1",
      " [13] eval",
      "    @ .\\boot.jl:368 [inlined]",
      " [14] include_string(mapexpr::typeof(REPL.softscope), mod::Module, code::String, filename::String)",
      "    @ Base .\\loading.jl:1428"
     ]
    }
   ],
   "source": [
    "model.predict(collect(predictor_df[1,:]))"
   ]
  },
  {
   "cell_type": "code",
   "execution_count": 58,
   "metadata": {},
   "outputs": [
    {
     "data": {
      "text/plain": [
       "428×1 Matrix{Float64}:\n",
       " 36.6\n",
       " 57.6\n",
       " 28.2\n",
       " 37.0\n",
       " 22.4\n",
       " 48.0\n",
       " 33.8\n",
       " 53.4\n",
       " 32.8\n",
       " 37.6\n",
       " 21.2\n",
       " 41.4\n",
       " 36.0\n",
       "  ⋮\n",
       " 34.6\n",
       " 48.8\n",
       " 38.6\n",
       " 38.8\n",
       " 49.6\n",
       " 46.8\n",
       " 53.8\n",
       " 47.0\n",
       " 33.4\n",
       " 44.8\n",
       " 33.0\n",
       " 28.4"
      ]
     },
     "execution_count": 58,
     "metadata": {},
     "output_type": "execute_result"
    }
   ],
   "source": [
    "pred_popular = model.predict(Matrix(select(df_popular,Not(\"Popularity\"))))"
   ]
  },
  {
   "cell_type": "code",
   "execution_count": 55,
   "metadata": {},
   "outputs": [
    {
     "name": "stdout",
     "output_type": "stream",
     "text": [
      "Size: (428, 1)\n",
      "Type:Matrix{Float64}\n"
     ]
    }
   ],
   "source": [
    "println(\"Size: \",size(pred_popular))\n",
    "println(\"Type:\",typeof(pred_popular))"
   ]
  },
  {
   "cell_type": "code",
   "execution_count": 69,
   "metadata": {},
   "outputs": [],
   "source": [
    "na_numeric_columns = [\"Popularity\",\"instrumentalness\"]\n",
    "predictor_columns = [ \"danceability\",\"energy\",\"loudness\",\"speechiness\",\"acousticness\",\"liveness\",\"valence\",\"tempo\",\"duration_in min/ms\"]\n",
    "predictor_df = select(df,Not(predictor_columns))\n",
    "\n",
    "for na_column in na_numeric_columns\n",
    "    for index in 1:size(df,1)\n",
    "        if (ismissing(df[index,na_numeric_columns]))\n",
    "            print(df[index,na_numeric_columns])\n",
    "            #df[index,na_column] = model.predict(Matrix(predictor[index,:]))\n",
    "        end\n",
    "    end\n",
    "end\n"
   ]
  },
  {
   "cell_type": "code",
   "execution_count": 146,
   "metadata": {},
   "outputs": [
    {
     "data": {
      "text/plain": [
       "47.2"
      ]
     },
     "execution_count": 146,
     "metadata": {},
     "output_type": "execute_result"
    }
   ],
   "source": [
    "v = collect(predictor_df[1,:])\n",
    "v_matrix = permutedims(reshape(v, length(v), 1))\n",
    "model.predict(v_matrix)[1]"
   ]
  },
  {
   "cell_type": "code",
   "execution_count": 151,
   "metadata": {},
   "outputs": [],
   "source": [
    "na_numeric_columns = [\"Popularity\",\"instrumentalness\"]\n",
    "predictor_columns = [ \"danceability\",\"energy\",\"loudness\",\"speechiness\",\"acousticness\",\"liveness\",\"valence\",\"tempo\",\"duration_in min/ms\"]\n",
    "predictor_df = select(df,predictor_columns)\n",
    "\n",
    "for na_column in na_numeric_columns\n",
    "    for (index,row) in enumerate(completecases(df))\n",
    "        if (row==false)\n",
    "            v = collect(predictor_df[index,:])\n",
    "            v_matrix = permutedims(reshape(v, length(v), 1))\n",
    "            df[index,na_column] = model.predict(v_matrix)[1]\n",
    "        end\n",
    "    end\n",
    "end"
   ]
  },
  {
   "cell_type": "code",
   "execution_count": 152,
   "metadata": {},
   "outputs": [
    {
     "data": {
      "text/html": [
       "<div><div style = \"float: left;\"><span>17×7 DataFrame</span></div><div style = \"clear: both;\"></div></div><div class = \"data-frame\" style = \"overflow-x: scroll;\"><table class = \"data-frame\" style = \"margin-bottom: 6px;\"><thead><tr class = \"header\"><th class = \"rowNumber\" style = \"font-weight: bold; text-align: right;\">Row</th><th style = \"text-align: left;\">variable</th><th style = \"text-align: left;\">mean</th><th style = \"text-align: left;\">min</th><th style = \"text-align: left;\">median</th><th style = \"text-align: left;\">max</th><th style = \"text-align: left;\">nmissing</th><th style = \"text-align: left;\">eltype</th></tr><tr class = \"subheader headerLastRow\"><th class = \"rowNumber\" style = \"font-weight: bold; text-align: right;\"></th><th title = \"Symbol\" style = \"text-align: left;\">Symbol</th><th title = \"Union{Nothing, Float64}\" style = \"text-align: left;\">Union…</th><th title = \"Any\" style = \"text-align: left;\">Any</th><th title = \"Union{Nothing, Float64}\" style = \"text-align: left;\">Union…</th><th title = \"Any\" style = \"text-align: left;\">Any</th><th title = \"Int64\" style = \"text-align: left;\">Int64</th><th title = \"Type\" style = \"text-align: left;\">Type</th></tr></thead><tbody><tr><td class = \"rowNumber\" style = \"font-weight: bold; text-align: right;\">1</td><td style = \"text-align: left;\">Artist Name</td><td style = \"font-style: italic; text-align: left;\"></td><td style = \"text-align: left;\">$NOT</td><td style = \"font-style: italic; text-align: left;\"></td><td style = \"text-align: left;\">◊†◊ê◊ì◊î</td><td style = \"text-align: right;\">0</td><td style = \"text-align: left;\">String</td></tr><tr><td class = \"rowNumber\" style = \"font-weight: bold; text-align: right;\">2</td><td style = \"text-align: left;\">Track Name</td><td style = \"font-style: italic; text-align: left;\"></td><td style = \"text-align: left;\">&quot;45&quot;</td><td style = \"font-style: italic; text-align: left;\"></td><td style = \"text-align: left;\">◊™◊™◊ó◊†◊†◊ô ◊ê◊ú◊ô◊ô</td><td style = \"text-align: right;\">0</td><td style = \"text-align: left;\">String</td></tr><tr><td class = \"rowNumber\" style = \"font-weight: bold; text-align: right;\">3</td><td style = \"text-align: left;\">Popularity</td><td style = \"text-align: left;\">43.2799</td><td style = \"text-align: left;\">1.0</td><td style = \"text-align: left;\">43.0</td><td style = \"text-align: left;\">98.0</td><td style = \"text-align: right;\">0</td><td style = \"text-align: left;\">Union{Missing, Float64}</td></tr><tr><td class = \"rowNumber\" style = \"font-weight: bold; text-align: right;\">4</td><td style = \"text-align: left;\">danceability</td><td style = \"text-align: left;\">0.543433</td><td style = \"text-align: left;\">0.0596</td><td style = \"text-align: left;\">0.545</td><td style = \"text-align: left;\">0.989</td><td style = \"text-align: right;\">0</td><td style = \"text-align: left;\">Float64</td></tr><tr><td class = \"rowNumber\" style = \"font-weight: bold; text-align: right;\">5</td><td style = \"text-align: left;\">energy</td><td style = \"text-align: left;\">0.662777</td><td style = \"text-align: left;\">2.03e-5</td><td style = \"text-align: left;\">0.7</td><td style = \"text-align: left;\">1.0</td><td style = \"text-align: right;\">0</td><td style = \"text-align: left;\">Float64</td></tr><tr><td class = \"rowNumber\" style = \"font-weight: bold; text-align: right;\">6</td><td style = \"text-align: left;\">key</td><td style = \"font-style: italic; text-align: left;\"></td><td style = \"text-align: left;\">1.0</td><td style = \"font-style: italic; text-align: left;\"></td><td style = \"text-align: left;\">9.0</td><td style = \"text-align: right;\">2014</td><td style = \"text-align: left;\">Union{Missing, String}</td></tr><tr><td class = \"rowNumber\" style = \"font-weight: bold; text-align: right;\">7</td><td style = \"text-align: left;\">loudness</td><td style = \"text-align: left;\">-7.91066</td><td style = \"text-align: left;\">-39.952</td><td style = \"text-align: left;\">-7.016</td><td style = \"text-align: left;\">1.355</td><td style = \"text-align: right;\">0</td><td style = \"text-align: left;\">Float64</td></tr><tr><td class = \"rowNumber\" style = \"font-weight: bold; text-align: right;\">8</td><td style = \"text-align: left;\">mode</td><td style = \"font-style: italic; text-align: left;\"></td><td style = \"text-align: left;\">0</td><td style = \"font-style: italic; text-align: left;\"></td><td style = \"text-align: left;\">1</td><td style = \"text-align: right;\">0</td><td style = \"text-align: left;\">String</td></tr><tr><td class = \"rowNumber\" style = \"font-weight: bold; text-align: right;\">9</td><td style = \"text-align: left;\">speechiness</td><td style = \"text-align: left;\">0.079707</td><td style = \"text-align: left;\">0.0225</td><td style = \"text-align: left;\">0.0474</td><td style = \"text-align: left;\">0.955</td><td style = \"text-align: right;\">0</td><td style = \"text-align: left;\">Float64</td></tr><tr><td class = \"rowNumber\" style = \"font-weight: bold; text-align: right;\">10</td><td style = \"text-align: left;\">acousticness</td><td style = \"text-align: left;\">0.247082</td><td style = \"text-align: left;\">0.0</td><td style = \"text-align: left;\">0.0814</td><td style = \"text-align: left;\">0.996</td><td style = \"text-align: right;\">0</td><td style = \"text-align: left;\">Float64</td></tr><tr><td class = \"rowNumber\" style = \"font-weight: bold; text-align: right;\">11</td><td style = \"text-align: left;\">instrumentalness</td><td style = \"text-align: left;\">14.4644</td><td style = \"text-align: left;\">1.0e-6</td><td style = \"text-align: left;\">0.189</td><td style = \"text-align: left;\">84.0</td><td style = \"text-align: right;\">0</td><td style = \"text-align: left;\">Union{Missing, Float64}</td></tr><tr><td class = \"rowNumber\" style = \"font-weight: bold; text-align: right;\">12</td><td style = \"text-align: left;\">liveness</td><td style = \"text-align: left;\">0.19617</td><td style = \"text-align: left;\">0.0119</td><td style = \"text-align: left;\">0.129</td><td style = \"text-align: left;\">1.0</td><td style = \"text-align: right;\">0</td><td style = \"text-align: left;\">Float64</td></tr><tr><td class = \"rowNumber\" style = \"font-weight: bold; text-align: right;\">13</td><td style = \"text-align: left;\">valence</td><td style = \"text-align: left;\">0.486208</td><td style = \"text-align: left;\">0.0183</td><td style = \"text-align: left;\">0.481</td><td style = \"text-align: left;\">0.986</td><td style = \"text-align: right;\">0</td><td style = \"text-align: left;\">Float64</td></tr><tr><td class = \"rowNumber\" style = \"font-weight: bold; text-align: right;\">14</td><td style = \"text-align: left;\">tempo</td><td style = \"text-align: left;\">122.623</td><td style = \"text-align: left;\">30.557</td><td style = \"text-align: left;\">120.066</td><td style = \"text-align: left;\">217.416</td><td style = \"text-align: right;\">0</td><td style = \"text-align: left;\">Float64</td></tr><tr><td class = \"rowNumber\" style = \"font-weight: bold; text-align: right;\">15</td><td style = \"text-align: left;\">duration_in min/ms</td><td style = \"text-align: left;\">2.00744e5</td><td style = \"text-align: left;\">0.50165</td><td style = \"text-align: left;\">209160.0</td><td style = \"text-align: left;\">1.47719e6</td><td style = \"text-align: right;\">0</td><td style = \"text-align: left;\">Float64</td></tr><tr><td class = \"rowNumber\" style = \"font-weight: bold; text-align: right;\">16</td><td style = \"text-align: left;\">time_signature</td><td style = \"font-style: italic; text-align: left;\"></td><td style = \"text-align: left;\">1</td><td style = \"font-style: italic; text-align: left;\"></td><td style = \"text-align: left;\">5</td><td style = \"text-align: right;\">0</td><td style = \"text-align: left;\">String</td></tr><tr><td class = \"rowNumber\" style = \"font-weight: bold; text-align: right;\">17</td><td style = \"text-align: left;\">Class</td><td style = \"font-style: italic; text-align: left;\"></td><td style = \"text-align: left;\">0</td><td style = \"font-style: italic; text-align: left;\"></td><td style = \"text-align: left;\">9</td><td style = \"text-align: right;\">0</td><td style = \"text-align: left;\">String</td></tr></tbody></table></div>"
      ],
      "text/latex": [
       "\\begin{tabular}{r|ccccccc}\n",
       "\t& variable & mean & min & median & max & nmissing & \\\\\n",
       "\t\\hline\n",
       "\t& Symbol & Union… & Any & Union… & Any & Int64 & \\\\\n",
       "\t\\hline\n",
       "\t1 & Artist Name &  & \\$NOT &  & ◊†◊ê◊ì◊î & 0 & $\\dots$ \\\\\n",
       "\t2 & Track Name &  & \"45\" &  & ◊™◊™◊ó◊†◊†◊ô ◊ê◊ú◊ô◊ô & 0 & $\\dots$ \\\\\n",
       "\t3 & Popularity & 43.2799 & 1.0 & 43.0 & 98.0 & 0 & $\\dots$ \\\\\n",
       "\t4 & danceability & 0.543433 & 0.0596 & 0.545 & 0.989 & 0 & $\\dots$ \\\\\n",
       "\t5 & energy & 0.662777 & 2.03e-5 & 0.7 & 1.0 & 0 & $\\dots$ \\\\\n",
       "\t6 & key &  & 1.0 &  & 9.0 & 2014 & $\\dots$ \\\\\n",
       "\t7 & loudness & -7.91066 & -39.952 & -7.016 & 1.355 & 0 & $\\dots$ \\\\\n",
       "\t8 & mode &  & 0 &  & 1 & 0 & $\\dots$ \\\\\n",
       "\t9 & speechiness & 0.079707 & 0.0225 & 0.0474 & 0.955 & 0 & $\\dots$ \\\\\n",
       "\t10 & acousticness & 0.247082 & 0.0 & 0.0814 & 0.996 & 0 & $\\dots$ \\\\\n",
       "\t11 & instrumentalness & 14.4644 & 1.0e-6 & 0.189 & 84.0 & 0 & $\\dots$ \\\\\n",
       "\t12 & liveness & 0.19617 & 0.0119 & 0.129 & 1.0 & 0 & $\\dots$ \\\\\n",
       "\t13 & valence & 0.486208 & 0.0183 & 0.481 & 0.986 & 0 & $\\dots$ \\\\\n",
       "\t14 & tempo & 122.623 & 30.557 & 120.066 & 217.416 & 0 & $\\dots$ \\\\\n",
       "\t15 & duration\\_in min/ms & 2.00744e5 & 0.50165 & 209160.0 & 1.47719e6 & 0 & $\\dots$ \\\\\n",
       "\t16 & time\\_signature &  & 1 &  & 5 & 0 & $\\dots$ \\\\\n",
       "\t17 & Class &  & 0 &  & 9 & 0 & $\\dots$ \\\\\n",
       "\\end{tabular}\n"
      ],
      "text/plain": [
       "\u001b[1m17×7 DataFrame\u001b[0m\n",
       "\u001b[1m Row \u001b[0m│\u001b[1m variable           \u001b[0m\u001b[1m mean      \u001b[0m\u001b[1m min     \u001b[0m\u001b[1m median   \u001b[0m\u001b[1m max                  \u001b[0m ⋯\n",
       "     │\u001b[90m Symbol             \u001b[0m\u001b[90m Union…    \u001b[0m\u001b[90m Any     \u001b[0m\u001b[90m Union…   \u001b[0m\u001b[90m Any                  \u001b[0m ⋯\n",
       "─────┼──────────────────────────────────────────────────────────────────────────\n",
       "   1 │ Artist Name        \u001b[90m           \u001b[0m $NOT    \u001b[90m          \u001b[0m ◊†◊ê◊ì◊î              ⋯\n",
       "   2 │ Track Name         \u001b[90m           \u001b[0m \"45\"    \u001b[90m          \u001b[0m ◊™◊™◊ó◊†◊†◊ô ◊ê◊ú◊ô◊ô\n",
       "   3 │ Popularity          43.2799    1.0      43.0      98.0\n",
       "   4 │ danceability        0.543433   0.0596   0.545     0.989\n",
       "   5 │ energy              0.662777   2.03e-5  0.7       1.0                   ⋯\n",
       "   6 │ key                \u001b[90m           \u001b[0m 1.0     \u001b[90m          \u001b[0m 9.0\n",
       "   7 │ loudness            -7.91066   -39.952  -7.016    1.355\n",
       "   8 │ mode               \u001b[90m           \u001b[0m 0       \u001b[90m          \u001b[0m 1\n",
       "   9 │ speechiness         0.079707   0.0225   0.0474    0.955                 ⋯\n",
       "  10 │ acousticness        0.247082   0.0      0.0814    0.996\n",
       "  11 │ instrumentalness    14.4644    1.0e-6   0.189     84.0\n",
       "  12 │ liveness            0.19617    0.0119   0.129     1.0\n",
       "  13 │ valence             0.486208   0.0183   0.481     0.986                 ⋯\n",
       "  14 │ tempo               122.623    30.557   120.066   217.416\n",
       "  15 │ duration_in min/ms  2.00744e5  0.50165  209160.0  1.47719e6\n",
       "  16 │ time_signature     \u001b[90m           \u001b[0m 1       \u001b[90m          \u001b[0m 5\n",
       "  17 │ Class              \u001b[90m           \u001b[0m 0       \u001b[90m          \u001b[0m 9                     ⋯\n",
       "\u001b[36m                                                               2 columns omitted\u001b[0m"
      ]
     },
     "execution_count": 152,
     "metadata": {},
     "output_type": "execute_result"
    }
   ],
   "source": [
    "describe(df)"
   ]
  },
  {
   "cell_type": "code",
   "execution_count": 70,
   "metadata": {},
   "outputs": [
    {
     "data": {
      "text/plain": [
       "17996"
      ]
     },
     "execution_count": 70,
     "metadata": {},
     "output_type": "execute_result"
    }
   ],
   "source": [
    "size(df,1)"
   ]
  }
 ],
 "metadata": {
  "kernelspec": {
   "display_name": "Julia 1.8.2",
   "language": "julia",
   "name": "julia-1.8"
  },
  "language_info": {
   "file_extension": ".jl",
   "mimetype": "application/julia",
   "name": "julia",
   "version": "1.8.2"
  },
  "orig_nbformat": 4
 },
 "nbformat": 4,
 "nbformat_minor": 2
}
